{
 "cells": [
  {
   "cell_type": "markdown",
   "id": "07f66f47",
   "metadata": {},
   "source": [
    "# Final project case: building a personalised tourism recommender: Building the recommender"
   ]
  },
  {
   "cell_type": "markdown",
   "id": "4e0c3f5e",
   "metadata": {},
   "source": [
    "# Loading the libraries"
   ]
  },
  {
   "cell_type": "code",
   "execution_count": 4,
   "id": "9780dd74",
   "metadata": {},
   "outputs": [],
   "source": [
    "import numpy as np \n",
    "import pandas as pd \n",
    "import matplotlib.pyplot as plt"
   ]
  },
  {
   "cell_type": "code",
   "execution_count": 5,
   "id": "354631ff",
   "metadata": {},
   "outputs": [],
   "source": [
    "from sklearn.model_selection import train_test_split\n",
    "from sklearn.ensemble import RandomForestClassifier\n",
    "from sklearn.metrics import accuracy_score, classification_report\n",
    "from sklearn.preprocessing import LabelEncoder"
   ]
  },
  {
   "cell_type": "markdown",
   "id": "010660ed",
   "metadata": {},
   "source": [
    "# Loading the data"
   ]
  },
  {
   "cell_type": "code",
   "execution_count": 6,
   "id": "b88cad93",
   "metadata": {},
   "outputs": [],
   "source": [
    "df = pd.read_excel(\"data_final_encoded.xlsx\")"
   ]
  },
  {
   "cell_type": "code",
   "execution_count": 7,
   "id": "9d8795aa",
   "metadata": {},
   "outputs": [
    {
     "data": {
      "text/html": [
       "<div>\n",
       "<style scoped>\n",
       "    .dataframe tbody tr th:only-of-type {\n",
       "        vertical-align: middle;\n",
       "    }\n",
       "\n",
       "    .dataframe tbody tr th {\n",
       "        vertical-align: top;\n",
       "    }\n",
       "\n",
       "    .dataframe thead th {\n",
       "        text-align: right;\n",
       "    }\n",
       "</style>\n",
       "<table border=\"1\" class=\"dataframe\">\n",
       "  <thead>\n",
       "    <tr style=\"text-align: right;\">\n",
       "      <th></th>\n",
       "      <th>Unnamed: 0</th>\n",
       "      <th>name</th>\n",
       "      <th>average_sentiment</th>\n",
       "      <th>cat_detailed</th>\n",
       "      <th>cat_reduced</th>\n",
       "      <th>latitud</th>\n",
       "      <th>longitud</th>\n",
       "      <th>address</th>\n",
       "      <th>area</th>\n",
       "      <th>age</th>\n",
       "      <th>way_travel</th>\n",
       "      <th>rating</th>\n",
       "      <th>sentiment_encoded</th>\n",
       "      <th>destination_encoded</th>\n",
       "      <th>cat_sites_reduced_encoded</th>\n",
       "      <th>age_encoded</th>\n",
       "      <th>way_encoded</th>\n",
       "    </tr>\n",
       "  </thead>\n",
       "  <tbody>\n",
       "    <tr>\n",
       "      <th>0</th>\n",
       "      <td>0</td>\n",
       "      <td>Teatro Flamenco Madrid</td>\n",
       "      <td>history_freak</td>\n",
       "      <td>theater</td>\n",
       "      <td>experiences, cultural centers, theaters and music</td>\n",
       "      <td>40.423258</td>\n",
       "      <td>-3.704502</td>\n",
       "      <td>C. del Pez, 10, 28004 Madrid, España</td>\n",
       "      <td>Madrid</td>\n",
       "      <td>adult</td>\n",
       "      <td>in couple</td>\n",
       "      <td>4.7</td>\n",
       "      <td>4</td>\n",
       "      <td>1</td>\n",
       "      <td>4</td>\n",
       "      <td>1</td>\n",
       "      <td>1</td>\n",
       "    </tr>\n",
       "    <tr>\n",
       "      <th>1</th>\n",
       "      <td>1</td>\n",
       "      <td>Urban Safari</td>\n",
       "      <td>adventurous</td>\n",
       "      <td>experience</td>\n",
       "      <td>experiences, cultural centers, theaters and music</td>\n",
       "      <td>40.404300</td>\n",
       "      <td>-3.694670</td>\n",
       "      <td>Calle de las Delicias, 9, 28045 Madrid, España</td>\n",
       "      <td>Madrid</td>\n",
       "      <td>old</td>\n",
       "      <td>in couple</td>\n",
       "      <td>4.9</td>\n",
       "      <td>1</td>\n",
       "      <td>1</td>\n",
       "      <td>4</td>\n",
       "      <td>2</td>\n",
       "      <td>1</td>\n",
       "    </tr>\n",
       "    <tr>\n",
       "      <th>2</th>\n",
       "      <td>2</td>\n",
       "      <td>Museo Gran Via 15</td>\n",
       "      <td>artsy</td>\n",
       "      <td>museum</td>\n",
       "      <td>historic building, museums and archaeological ...</td>\n",
       "      <td>40.419750</td>\n",
       "      <td>-3.700222</td>\n",
       "      <td>C/ Gran Vía, 15, Local, 28013 Madrid, España</td>\n",
       "      <td>Madrid</td>\n",
       "      <td>adult</td>\n",
       "      <td>in family</td>\n",
       "      <td>4.4</td>\n",
       "      <td>0</td>\n",
       "      <td>1</td>\n",
       "      <td>1</td>\n",
       "      <td>1</td>\n",
       "      <td>3</td>\n",
       "    </tr>\n",
       "    <tr>\n",
       "      <th>3</th>\n",
       "      <td>3</td>\n",
       "      <td>Parque Princesa Leonor</td>\n",
       "      <td>relax</td>\n",
       "      <td>park</td>\n",
       "      <td>town, parks or lookouts</td>\n",
       "      <td>40.488108</td>\n",
       "      <td>-3.619405</td>\n",
       "      <td>F9RJ+4F, 28055 Madrid, España</td>\n",
       "      <td>Madrid</td>\n",
       "      <td>young</td>\n",
       "      <td>in couple</td>\n",
       "      <td>4.4</td>\n",
       "      <td>2</td>\n",
       "      <td>1</td>\n",
       "      <td>2</td>\n",
       "      <td>0</td>\n",
       "      <td>1</td>\n",
       "    </tr>\n",
       "    <tr>\n",
       "      <th>4</th>\n",
       "      <td>4</td>\n",
       "      <td>Parque Juan Pablo II</td>\n",
       "      <td>relax</td>\n",
       "      <td>park</td>\n",
       "      <td>town, parks or lookouts</td>\n",
       "      <td>40.454777</td>\n",
       "      <td>-3.626851</td>\n",
       "      <td>Av. de Machupichu, 1, 28043 Madrid, España</td>\n",
       "      <td>Madrid</td>\n",
       "      <td>young</td>\n",
       "      <td>in couple</td>\n",
       "      <td>4.5</td>\n",
       "      <td>2</td>\n",
       "      <td>1</td>\n",
       "      <td>2</td>\n",
       "      <td>0</td>\n",
       "      <td>1</td>\n",
       "    </tr>\n",
       "  </tbody>\n",
       "</table>\n",
       "</div>"
      ],
      "text/plain": [
       "   Unnamed: 0                    name average_sentiment cat_detailed  \\\n",
       "0           0  Teatro Flamenco Madrid     history_freak      theater   \n",
       "1           1            Urban Safari       adventurous   experience   \n",
       "2           2       Museo Gran Via 15             artsy       museum   \n",
       "3           3  Parque Princesa Leonor             relax         park   \n",
       "4           4    Parque Juan Pablo II             relax         park   \n",
       "\n",
       "                                         cat_reduced    latitud  longitud  \\\n",
       "0  experiences, cultural centers, theaters and music  40.423258 -3.704502   \n",
       "1  experiences, cultural centers, theaters and music  40.404300 -3.694670   \n",
       "2  historic building, museums and archaeological ...  40.419750 -3.700222   \n",
       "3                            town, parks or lookouts  40.488108 -3.619405   \n",
       "4                            town, parks or lookouts  40.454777 -3.626851   \n",
       "\n",
       "                                          address    area    age way_travel  \\\n",
       "0            C. del Pez, 10, 28004 Madrid, España  Madrid  adult  in couple   \n",
       "1  Calle de las Delicias, 9, 28045 Madrid, España  Madrid    old  in couple   \n",
       "2    C/ Gran Vía, 15, Local, 28013 Madrid, España  Madrid  adult  in family   \n",
       "3                   F9RJ+4F, 28055 Madrid, España  Madrid  young  in couple   \n",
       "4      Av. de Machupichu, 1, 28043 Madrid, España  Madrid  young  in couple   \n",
       "\n",
       "   rating  sentiment_encoded  destination_encoded  cat_sites_reduced_encoded  \\\n",
       "0     4.7                  4                    1                          4   \n",
       "1     4.9                  1                    1                          4   \n",
       "2     4.4                  0                    1                          1   \n",
       "3     4.4                  2                    1                          2   \n",
       "4     4.5                  2                    1                          2   \n",
       "\n",
       "   age_encoded  way_encoded  \n",
       "0            1            1  \n",
       "1            2            1  \n",
       "2            1            3  \n",
       "3            0            1  \n",
       "4            0            1  "
      ]
     },
     "execution_count": 7,
     "metadata": {},
     "output_type": "execute_result"
    }
   ],
   "source": [
    "df.head()"
   ]
  },
  {
   "cell_type": "markdown",
   "id": "0f4b0c89",
   "metadata": {},
   "source": [
    "#### Encoding values"
   ]
  },
  {
   "cell_type": "code",
   "execution_count": 8,
   "id": "bc8c12bc",
   "metadata": {
    "scrolled": true
   },
   "outputs": [
    {
     "data": {
      "text/plain": [
       "average_sentiment\n",
       "history_freak    1297\n",
       "curious          1011\n",
       "relax             859\n",
       "artsy             442\n",
       "adventurous       189\n",
       "Name: count, dtype: int64"
      ]
     },
     "execution_count": 8,
     "metadata": {},
     "output_type": "execute_result"
    }
   ],
   "source": [
    "df[\"average_sentiment\"].value_counts()"
   ]
  },
  {
   "cell_type": "code",
   "execution_count": 9,
   "id": "e8a6d91b",
   "metadata": {
    "scrolled": true
   },
   "outputs": [
    {
     "data": {
      "text/plain": [
       "age\n",
       "adult    1685\n",
       "young    1510\n",
       "old       603\n",
       "Name: count, dtype: int64"
      ]
     },
     "execution_count": 9,
     "metadata": {},
     "output_type": "execute_result"
    }
   ],
   "source": [
    "df[\"age\"].value_counts()"
   ]
  },
  {
   "cell_type": "code",
   "execution_count": 10,
   "id": "c1fe0b8a",
   "metadata": {
    "scrolled": true
   },
   "outputs": [
    {
     "data": {
      "text/plain": [
       "way_travel\n",
       "in couple    1709\n",
       "in family    1496\n",
       "in group      492\n",
       "alone         101\n",
       "Name: count, dtype: int64"
      ]
     },
     "execution_count": 10,
     "metadata": {},
     "output_type": "execute_result"
    }
   ],
   "source": [
    "df[\"way_travel\"].value_counts()"
   ]
  },
  {
   "cell_type": "code",
   "execution_count": 11,
   "id": "7158b657",
   "metadata": {
    "scrolled": true
   },
   "outputs": [
    {
     "data": {
      "text/plain": [
       "cat_reduced\n",
       "historic building, museums and archaeological rests    1076\n",
       "town, parks or lookouts                                 585\n",
       "points of interest, like squares and sculptures         520\n",
       "experiences, cultural centers, theaters and music       511\n",
       "religious                                               367\n",
       "contemporary buildings and art galleries                303\n",
       "route and urban routes                                  271\n",
       "food, music, seaside, sport and others                  165\n",
       "Name: count, dtype: int64"
      ]
     },
     "execution_count": 11,
     "metadata": {},
     "output_type": "execute_result"
    }
   ],
   "source": [
    "df[\"cat_reduced\"].value_counts()"
   ]
  },
  {
   "cell_type": "code",
   "execution_count": 12,
   "id": "fe6232d8",
   "metadata": {
    "scrolled": true
   },
   "outputs": [
    {
     "data": {
      "text/plain": [
       "area\n",
       "Euskadi      1272\n",
       "Barcelona    1250\n",
       "Madrid        875\n",
       "Vigo          373\n",
       "La Palma       28\n",
       "Name: count, dtype: int64"
      ]
     },
     "execution_count": 12,
     "metadata": {},
     "output_type": "execute_result"
    }
   ],
   "source": [
    "df[\"area\"].value_counts()"
   ]
  },
  {
   "cell_type": "code",
   "execution_count": 46,
   "id": "f23ec79d",
   "metadata": {},
   "outputs": [],
   "source": [
    "# This is how we previously encode the categoricals for the model. \n",
    "\n",
    "sentiment = {\n",
    "    'artsy': 0,\n",
    "    'adventurous': 1,\n",
    "    'relax': 2,\n",
    "    'curious': 3,\n",
    "    'history_freak': 4,\n",
    "}\n",
    "\n",
    "\n",
    "user_age = {\n",
    "    'young': 0,\n",
    "    'adult': 1,\n",
    "    'old': 2\n",
    "}\n",
    "\n",
    "user_way = {\n",
    "    'alone': 0,\n",
    "    'in couple': 1,\n",
    "    'in group': 2,\n",
    "    'in family':3\n",
    "}\n",
    "\n",
    "\n",
    "cat_sites_reduced_encoded = {\n",
    "    'historic building, museums and archaeological rests': 1,\n",
    "    'town, parks or lookouts': 2,\n",
    "    'points of interest, like squares and sculptures': 3,\n",
    "    'experiences, cultural centers, theaters and music': 4,\n",
    "    'religious': 5,\n",
    "    'contemporary buildings and art galleries': 6,\n",
    "    'route and urban routes': 7,\n",
    "    'food, music, seaside, sport and others': 8\n",
    "}\n",
    "\n",
    "destination_encoded = {\n",
    "    \"Madrid\": 1,\n",
    "    \"Vigo\": 2,\n",
    "    \"La Palma\": 3,\n",
    "    \"Euskadi\": 4,\n",
    "    \"Barcelona\": 5,\n",
    "}"
   ]
  },
  {
   "cell_type": "code",
   "execution_count": 13,
   "id": "2b9e4c9c",
   "metadata": {
    "scrolled": true
   },
   "outputs": [
    {
     "data": {
      "text/plain": [
       "Unnamed: 0                   0\n",
       "name                         0\n",
       "average_sentiment            0\n",
       "cat_detailed                 0\n",
       "cat_reduced                  0\n",
       "latitud                      0\n",
       "longitud                     0\n",
       "address                      0\n",
       "area                         0\n",
       "age                          0\n",
       "way_travel                   0\n",
       "rating                       0\n",
       "sentiment_encoded            0\n",
       "destination_encoded          0\n",
       "cat_sites_reduced_encoded    0\n",
       "age_encoded                  0\n",
       "way_encoded                  0\n",
       "dtype: int64"
      ]
     },
     "execution_count": 13,
     "metadata": {},
     "output_type": "execute_result"
    }
   ],
   "source": [
    "df.isna().sum()"
   ]
  },
  {
   "cell_type": "markdown",
   "id": "96bf235f",
   "metadata": {},
   "source": [
    "The model will work in such a way that will tell in the destination of the travel of the user, which category of sites is better for him to visit and then recommend three sites of this category"
   ]
  },
  {
   "cell_type": "markdown",
   "id": "d591d654",
   "metadata": {},
   "source": [
    "# THE MODEL I CHOSE"
   ]
  },
  {
   "cell_type": "markdown",
   "id": "ee69c99a",
   "metadata": {},
   "source": [
    "**_Random Forest_**"
   ]
  },
  {
   "cell_type": "code",
   "execution_count": 14,
   "id": "c936a105",
   "metadata": {},
   "outputs": [],
   "source": [
    "X_content = df[[\"age_encoded\", \"way_encoded\", \"sentiment_encoded\", \"destination_encoded\", \"rating\"]]\n",
    "y_content = df[\"cat_sites_reduced_encoded\"]\n",
    "\n",
    "# Train test split\n",
    "X_train_content, X_test_content, y_train_content, y_test_content = train_test_split(X_content, y_content, test_size=0.2, random_state=42)\n",
    "\n",
    "rf_content = RandomForestClassifier(n_estimators=100, random_state=42)\n",
    "\n",
    "# model training\n",
    "rf_content.fit(X_train_content, y_train_content)\n",
    "\n",
    "y_pred_rf = rf_content.predict(X_test_content)\n",
    "accuracy_rf = accuracy_score(y_test_content, y_pred_rf)\n",
    "print(f'Random Forest - Accuracy: {accuracy_rf:.2f}')"
   ]
  },
  {
   "cell_type": "markdown",
   "id": "b12d9ccf",
   "metadata": {},
   "source": [
    "***"
   ]
  },
  {
   "cell_type": "markdown",
   "id": "186c2d21",
   "metadata": {},
   "source": [
    "# Recommender"
   ]
  },
  {
   "cell_type": "code",
   "execution_count": 18,
   "id": "6a5790d8",
   "metadata": {},
   "outputs": [],
   "source": [
    "rf_content = RandomForestClassifier(n_estimators=100, random_state=42)\n",
    "rf_content.fit(X_train_content, y_train_content)\n",
    "\n",
    "# Inverse dict\n",
    "user_age_decoded = {\n",
    "    0: 'young',\n",
    "    1: 'adult',\n",
    "    2: 'old'\n",
    "}\n",
    "\n",
    "# Mapping for user_way\n",
    "user_way_decoded = {\n",
    "    0: 'alone',\n",
    "    1:'in couple',\n",
    "    2:'in group',\n",
    "    3:'in family'\n",
    "}\n",
    "\n",
    "# Mapping for sentiment\n",
    "sentiment_decoded = {\n",
    "    0: 'artsy',\n",
    "    1: 'adventurous',\n",
    "    2: 'relax',\n",
    "    3: 'curious',\n",
    "    4: 'history_freak'\n",
    "}\n",
    "\n",
    "# Mapping for cat_sites\n",
    "\n",
    "cat_sites_decoded = {\n",
    "    1: 'historic building, museums and archaeological rests',\n",
    "    2: 'town, parks or lookouts',\n",
    "    3: 'points of interest, like squares and sculptures',\n",
    "    4: 'experiences, cultural centers, theaters and music',\n",
    "    5: 'religious',\n",
    "    6: 'contemporary buildings and art galleries',\n",
    "    7: 'route and urban routes',\n",
    "    8: 'food, music, seaside, sport and others'\n",
    "}\n",
    "\n",
    "destination_decoded = {\n",
    "    1: \"Madrid\",\n",
    "    2: \"Vigo\",\n",
    "    3: \"La Palma\",\n",
    "    4: \"Euskadi\",\n",
    "    5: \"Barcelona\"\n",
    "}"
   ]
  },
  {
   "cell_type": "code",
   "execution_count": 23,
   "id": "22c045d2",
   "metadata": {},
   "outputs": [],
   "source": [
    "# Function to obtain the best category of the user\n",
    "def get_user_category(user_age, user_way, user_sentiment, user_destination, rat):\n",
    "    user_data = pd.DataFrame({\n",
    "        \"age_encoded\": [user_age],\n",
    "        \"way_encoded\": [user_way],\n",
    "        'sentiment_encoded': [user_sentiment],\n",
    "        'destination_encoded': [user_destination],\n",
    "        'rating':[rat]\n",
    "    })\n",
    "\n",
    "    user_category_encoded = rf_content.predict(user_data)[0]\n",
    "    user_category = cat_sites_decoded[user_category_encoded]\n",
    "    return user_category\n",
    "\n"
   ]
  },
  {
   "cell_type": "code",
   "execution_count": 28,
   "id": "54213cdc",
   "metadata": {},
   "outputs": [],
   "source": [
    "def get_top_three_sites_by_category(df, user_category, user_destination):\n",
    "    # filter sites of this category and destination\n",
    "    category_sites = df[(df['cat_reduced'] == user_category) & (df['destination_encoded'] == user_destination)]\n",
    "\n",
    "    # Order sites with rating form best to worst\n",
    "    sorted_sites = category_sites.sort_values(by='rating', ascending=False)\n",
    "\n",
    "    # Take the three sites with the best rating\n",
    "    top_three_sites = sorted_sites.head(3)['name']\n",
    "\n",
    "    return top_three_sites.tolist()"
   ]
  },
  {
   "cell_type": "code",
   "execution_count": 33,
   "id": "abeaa4a8",
   "metadata": {},
   "outputs": [
    {
     "name": "stdout",
     "output_type": "stream",
     "text": [
      "Category more adequate to user: town, parks or lookouts\n",
      "Best places to visit:\n",
      "['Parc del Auditoris', 'Jardins de Ramon Margalef i López', \"Torre vigilància Santa Creu D'Olorda\"]\n"
     ]
    }
   ],
   "source": [
    "# Example\n",
    "\n",
    "user_sentiment = 2  # \"relax\"\n",
    "user_age = 0 # \"young\"\n",
    "user_way = 3     # Code of 'in family'\n",
    "user_destination = 5 # Code of Madrid\n",
    "rat = 4\n",
    "\n",
    "user_category = get_user_category(user_age, user_way, user_sentiment, user_destination, rat)\n",
    "print(\"Category more adequate to user:\", user_category)\n",
    "\n",
    "top_sites_names = get_top_three_sites_by_category(df, user_category, user_destination)\n",
    "print(\"Best places to visit:\")\n",
    "print(top_sites_names)"
   ]
  },
  {
   "cell_type": "code",
   "execution_count": null,
   "id": "60c4b24d",
   "metadata": {},
   "outputs": [],
   "source": [
    "# This is all the code together to export it to Streamlit\n",
    "df = pd.read_excel(\"data_final_encoded.xlsx\")\n",
    "\n",
    "X_content = df[[\"age_encoded\", \"way_encoded\", \"sentiment_encoded\", \"destination_encoded\", \"rating\"]]\n",
    "y_content = df[\"cat_sites_reduced_encoded\"]\n",
    "\n",
    "# Train test split\n",
    "X_train_content, X_test_content, y_train_content, y_test_content = train_test_split(X_content, y_content, test_size=0.2, random_state=42)\n",
    "\n",
    "rf_content = RandomForestClassifier(n_estimators=100, random_state=42)\n",
    "\n",
    "# model training\n",
    "rf_content.fit(X_train_content, y_train_content)\n",
    "\n",
    "y_pred_rf = rf_content.predict(X_test_content)\n",
    "accuracy_rf = accuracy_score(y_test_content, y_pred_rf)\n",
    "print(f'Random Forest - Accuracy: {accuracy_rf:.2f}')\n",
    "\n",
    "rf_content = RandomForestClassifier(n_estimators=100, random_state=42)\n",
    "rf_content.fit(X_train_content, y_train_content)\n",
    "\n",
    "# -----\n",
    "\n",
    "# Inverse dict\n",
    "user_age_decoded = {\n",
    "    0: 'young',\n",
    "    1: 'adult',\n",
    "    2: 'old'\n",
    "}\n",
    "\n",
    "# Mapping for user_way\n",
    "user_way_decoded = {\n",
    "    0: 'alone',\n",
    "    1:'in couple',\n",
    "    2:'in group',\n",
    "    3:'in family'\n",
    "}\n",
    "\n",
    "# Mapping for sentiment\n",
    "sentiment_decoded = {\n",
    "    0: 'artsy',\n",
    "    1: 'adventurous',\n",
    "    2: 'relax',\n",
    "    3: 'curious',\n",
    "    4: 'history_freak'\n",
    "}\n",
    "\n",
    "# Mapping for cat_sites\n",
    "\n",
    "cat_sites_decoded = {\n",
    "    1: 'historic building, museums and archaeological rests',\n",
    "    2: 'town, parks or lookouts',\n",
    "    3: 'points of interest, like squares and sculptures',\n",
    "    4: 'experiences, cultural centers, theaters and music',\n",
    "    5: 'religious',\n",
    "    6: 'contemporary buildings and art galleries',\n",
    "    7: 'route and urban routes',\n",
    "    8: 'food, music, seaside, sport and others'\n",
    "}\n",
    "\n",
    "destination_decoded = {\n",
    "    1: \"Madrid\",\n",
    "    2: \"Vigo\",\n",
    "    3: \"La Palma\",\n",
    "    4: \"Euskadi\",\n",
    "    5: \"Barcelona\"\n",
    "}\n",
    "\n",
    "# -----\n",
    "\n",
    "# Function to obtain the best category of the user\n",
    "def get_user_category(user_age, user_way, user_sentiment, user_destination, rat):\n",
    "    user_data = pd.DataFrame({\n",
    "        \"age_encoded\": [user_age],\n",
    "        \"way_encoded\": [user_way],\n",
    "        'sentiment_encoded': [user_sentiment],\n",
    "        'destination_encoded': [user_destination],\n",
    "        'rating':[rat]\n",
    "    })\n",
    "\n",
    "    user_category_encoded = rf_content.predict(user_data)[0]\n",
    "    user_category = cat_sites_decoded[user_category_encoded]\n",
    "    return user_category\n",
    "\n",
    "# ------\n",
    "\n",
    "def get_top_three_sites_by_category(df, user_category, user_destination):\n",
    "    # filter sites of this category and destination\n",
    "    category_sites = df[(df['cat_reduced'] == user_category) & (df['destination_encoded'] == user_destination)]\n",
    "\n",
    "    # Order sites with rating form best to worst\n",
    "    sorted_sites = category_sites.sort_values(by='rating', ascending=False)\n",
    "\n",
    "    # Take the three sites with the best rating\n",
    "    top_three_sites = sorted_sites.head(3)['name']\n",
    "\n",
    "    return top_three_sites.tolist()\n",
    "\n",
    "# -----\n",
    "\n",
    "# Example\n",
    "\n",
    "user_sentiment = 2  # \"relax\"\n",
    "user_age = 0 # \"young\"\n",
    "user_way = 3     # Code of 'in family'\n",
    "user_destination = 5 # Code of Madrid\n",
    "rat = 4\n",
    "\n",
    "user_category = get_user_category(user_age, user_way, user_sentiment, user_destination, rat)\n",
    "print(\"Category more adequate to user:\", user_category)\n",
    "\n",
    "top_sites_names = get_top_three_sites_by_category(df, user_category, user_destination)\n",
    "print(\"Best places to visit:\")\n",
    "print(top_sites_names)"
   ]
  }
 ],
 "metadata": {
  "kernelspec": {
   "display_name": "Python 3 (ipykernel)",
   "language": "python",
   "name": "python3"
  },
  "language_info": {
   "codemirror_mode": {
    "name": "ipython",
    "version": 3
   },
   "file_extension": ".py",
   "mimetype": "text/x-python",
   "name": "python",
   "nbconvert_exporter": "python",
   "pygments_lexer": "ipython3",
   "version": "3.9.13"
  }
 },
 "nbformat": 4,
 "nbformat_minor": 5
}
