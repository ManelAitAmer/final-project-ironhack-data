{
 "cells": [
  {
   "cell_type": "markdown",
   "id": "07f66f47",
   "metadata": {},
   "source": [
    "# Final project case: building a personalised tourism recommender - EDA part"
   ]
  },
  {
   "cell_type": "markdown",
   "id": "15ac4541",
   "metadata": {},
   "source": [
    "#### Problem"
   ]
  },
  {
   "cell_type": "markdown",
   "id": "fb386ef4",
   "metadata": {},
   "source": [
    "The government of Spain wants to build a public online platform for their citizens to discover the country and promote national tourism. Although international tourists are the main source of income for this country, they want to change the paradigm and create a more sustainable tourism with its citizens.\n",
    "\n",
    "This public online platform will contain a personalised recommender that the user can use to discover sites for their next travel, according to their age, how are they travelling (solo, in family, in couple, in group) and how she or he is feeling about this trip.\n",
    "\n",
    "This first MVP will be for new users and it will be based on the average preferences of other users for each site.\n"
   ]
  },
  {
   "cell_type": "markdown",
   "id": "3ad157ad",
   "metadata": {},
   "source": [
    "#### Solution"
   ]
  },
  {
   "cell_type": "markdown",
   "id": "34e46c60",
   "metadata": {},
   "source": [
    "As a junior data analyst, the government has given me some data about places in different cities and regions: Madrid, Vigo, Barcelona, Euskadi (as a region) and La Palma (as a region) to create an MVP of this platform.\n",
    "\n",
    "For new users, the government has already started a focus group to recollect information about places and they will give me the average data of each site."
   ]
  },
  {
   "cell_type": "markdown",
   "id": "4e0c3f5e",
   "metadata": {},
   "source": [
    "# Loading the libraries"
   ]
  },
  {
   "cell_type": "code",
   "execution_count": 3,
   "id": "9780dd74",
   "metadata": {},
   "outputs": [],
   "source": [
    "import numpy as np \n",
    "import pandas as pd \n",
    "import matplotlib.pyplot as plt"
   ]
  },
  {
   "cell_type": "markdown",
   "id": "010660ed",
   "metadata": {},
   "source": [
    "# Loading the data"
   ]
  },
  {
   "cell_type": "markdown",
   "id": "8180ac71",
   "metadata": {},
   "source": [
    "In reality, I have retrieved the data from datos.gob.es, in the tourist point of interest section.\n",
    "I combine this with looking Google Maps API and looking for its latitude, longitude and rating. \n",
    "\n",
    "After that, I created some more features tu make it personalised."
   ]
  },
  {
   "cell_type": "code",
   "execution_count": 9,
   "id": "63d1804b",
   "metadata": {},
   "outputs": [],
   "source": [
    "data = pd.read_excel(\"data_final_not_encoded.xlsx\")"
   ]
  },
  {
   "cell_type": "code",
   "execution_count": 10,
   "id": "08d20661",
   "metadata": {
    "scrolled": true
   },
   "outputs": [
    {
     "data": {
      "text/html": [
       "<div>\n",
       "<style scoped>\n",
       "    .dataframe tbody tr th:only-of-type {\n",
       "        vertical-align: middle;\n",
       "    }\n",
       "\n",
       "    .dataframe tbody tr th {\n",
       "        vertical-align: top;\n",
       "    }\n",
       "\n",
       "    .dataframe thead th {\n",
       "        text-align: right;\n",
       "    }\n",
       "</style>\n",
       "<table border=\"1\" class=\"dataframe\">\n",
       "  <thead>\n",
       "    <tr style=\"text-align: right;\">\n",
       "      <th></th>\n",
       "      <th>id</th>\n",
       "      <th>name</th>\n",
       "      <th>average_sentiment</th>\n",
       "      <th>cat_detailed</th>\n",
       "      <th>cat_reduced</th>\n",
       "      <th>latitud</th>\n",
       "      <th>longitud</th>\n",
       "      <th>address</th>\n",
       "      <th>area</th>\n",
       "      <th>age</th>\n",
       "      <th>way_travel</th>\n",
       "      <th>rating</th>\n",
       "    </tr>\n",
       "  </thead>\n",
       "  <tbody>\n",
       "    <tr>\n",
       "      <th>0</th>\n",
       "      <td>0</td>\n",
       "      <td>Teatro Flamenco Madrid</td>\n",
       "      <td>history_freak</td>\n",
       "      <td>theater</td>\n",
       "      <td>experiences, cultural centers, theaters and music</td>\n",
       "      <td>40.423258</td>\n",
       "      <td>-3.704502</td>\n",
       "      <td>C. del Pez, 10, 28004 Madrid, España</td>\n",
       "      <td>Madrid</td>\n",
       "      <td>adult</td>\n",
       "      <td>in couple</td>\n",
       "      <td>4.7</td>\n",
       "    </tr>\n",
       "    <tr>\n",
       "      <th>1</th>\n",
       "      <td>1</td>\n",
       "      <td>Urban Safari</td>\n",
       "      <td>adventurous</td>\n",
       "      <td>experience</td>\n",
       "      <td>experiences, cultural centers, theaters and music</td>\n",
       "      <td>40.404300</td>\n",
       "      <td>-3.694670</td>\n",
       "      <td>Calle de las Delicias, 9, 28045 Madrid, España</td>\n",
       "      <td>Madrid</td>\n",
       "      <td>old</td>\n",
       "      <td>in couple</td>\n",
       "      <td>4.9</td>\n",
       "    </tr>\n",
       "    <tr>\n",
       "      <th>2</th>\n",
       "      <td>2</td>\n",
       "      <td>Museo Gran Via 15</td>\n",
       "      <td>artsy</td>\n",
       "      <td>museum</td>\n",
       "      <td>historic building, museums and archaeological ...</td>\n",
       "      <td>40.419750</td>\n",
       "      <td>-3.700222</td>\n",
       "      <td>C/ Gran Vía, 15, Local, 28013 Madrid, España</td>\n",
       "      <td>Madrid</td>\n",
       "      <td>adult</td>\n",
       "      <td>in family</td>\n",
       "      <td>4.4</td>\n",
       "    </tr>\n",
       "    <tr>\n",
       "      <th>3</th>\n",
       "      <td>3</td>\n",
       "      <td>Parque Princesa Leonor</td>\n",
       "      <td>relax</td>\n",
       "      <td>park</td>\n",
       "      <td>town, parks or lookouts</td>\n",
       "      <td>40.488108</td>\n",
       "      <td>-3.619405</td>\n",
       "      <td>F9RJ+4F, 28055 Madrid, España</td>\n",
       "      <td>Madrid</td>\n",
       "      <td>young</td>\n",
       "      <td>in couple</td>\n",
       "      <td>4.4</td>\n",
       "    </tr>\n",
       "    <tr>\n",
       "      <th>4</th>\n",
       "      <td>4</td>\n",
       "      <td>Parque Juan Pablo II</td>\n",
       "      <td>relax</td>\n",
       "      <td>park</td>\n",
       "      <td>town, parks or lookouts</td>\n",
       "      <td>40.454777</td>\n",
       "      <td>-3.626851</td>\n",
       "      <td>Av. de Machupichu, 1, 28043 Madrid, España</td>\n",
       "      <td>Madrid</td>\n",
       "      <td>young</td>\n",
       "      <td>in couple</td>\n",
       "      <td>4.5</td>\n",
       "    </tr>\n",
       "    <tr>\n",
       "      <th>...</th>\n",
       "      <td>...</td>\n",
       "      <td>...</td>\n",
       "      <td>...</td>\n",
       "      <td>...</td>\n",
       "      <td>...</td>\n",
       "      <td>...</td>\n",
       "      <td>...</td>\n",
       "      <td>...</td>\n",
       "      <td>...</td>\n",
       "      <td>...</td>\n",
       "      <td>...</td>\n",
       "      <td>...</td>\n",
       "    </tr>\n",
       "    <tr>\n",
       "      <th>3793</th>\n",
       "      <td>3793</td>\n",
       "      <td>Parketxe Arantzazu</td>\n",
       "      <td>curious</td>\n",
       "      <td>museum</td>\n",
       "      <td>historic building, museums and archaeological ...</td>\n",
       "      <td>42.980086</td>\n",
       "      <td>-2.401119</td>\n",
       "      <td>Arantzazu auzoa, Gandiaga II eraikina, 20567 O...</td>\n",
       "      <td>Euskadi</td>\n",
       "      <td>adult</td>\n",
       "      <td>in family</td>\n",
       "      <td>4.6</td>\n",
       "    </tr>\n",
       "    <tr>\n",
       "      <th>3794</th>\n",
       "      <td>3794</td>\n",
       "      <td>Kantauri Ondare Museoa</td>\n",
       "      <td>curious</td>\n",
       "      <td>museum</td>\n",
       "      <td>historic building, museums and archaeological ...</td>\n",
       "      <td>43.295369</td>\n",
       "      <td>-2.256645</td>\n",
       "      <td>Kantauri Plaza, 5, 20750 Zumaia, Gipuzkoa, España</td>\n",
       "      <td>Euskadi</td>\n",
       "      <td>young</td>\n",
       "      <td>in group</td>\n",
       "      <td>5.0</td>\n",
       "    </tr>\n",
       "    <tr>\n",
       "      <th>3795</th>\n",
       "      <td>3795</td>\n",
       "      <td>Ekoetxea Meatzaldea</td>\n",
       "      <td>curious</td>\n",
       "      <td>museum</td>\n",
       "      <td>historic building, museums and archaeological ...</td>\n",
       "      <td>43.282968</td>\n",
       "      <td>-3.075280</td>\n",
       "      <td>Carretera forestal La Arboleda, Muskiz km 1,6,...</td>\n",
       "      <td>Euskadi</td>\n",
       "      <td>adult</td>\n",
       "      <td>in family</td>\n",
       "      <td>4.4</td>\n",
       "    </tr>\n",
       "    <tr>\n",
       "      <th>3796</th>\n",
       "      <td>3796</td>\n",
       "      <td>Mufomi - Museo de Fósiles y Minerales de Elgoibar</td>\n",
       "      <td>curious</td>\n",
       "      <td>museum</td>\n",
       "      <td>historic building, museums and archaeological ...</td>\n",
       "      <td>43.218636</td>\n",
       "      <td>-2.407862</td>\n",
       "      <td>correos, Artetxe kalea, s/n, Apdo, Nº 20, 2087...</td>\n",
       "      <td>Euskadi</td>\n",
       "      <td>adult</td>\n",
       "      <td>in family</td>\n",
       "      <td>4.9</td>\n",
       "    </tr>\n",
       "    <tr>\n",
       "      <th>3797</th>\n",
       "      <td>3797</td>\n",
       "      <td>Arkeologi Museoa</td>\n",
       "      <td>curious</td>\n",
       "      <td>museum</td>\n",
       "      <td>historic building, museums and archaeological ...</td>\n",
       "      <td>43.258705</td>\n",
       "      <td>-2.921607</td>\n",
       "      <td>Mallona Galtzada, 2, 48006 Bilbo, Bizkaia, España</td>\n",
       "      <td>Euskadi</td>\n",
       "      <td>adult</td>\n",
       "      <td>in family</td>\n",
       "      <td>4.5</td>\n",
       "    </tr>\n",
       "  </tbody>\n",
       "</table>\n",
       "<p>3798 rows × 12 columns</p>\n",
       "</div>"
      ],
      "text/plain": [
       "        id                                               name  \\\n",
       "0        0                             Teatro Flamenco Madrid   \n",
       "1        1                                       Urban Safari   \n",
       "2        2                                  Museo Gran Via 15   \n",
       "3        3                             Parque Princesa Leonor   \n",
       "4        4                               Parque Juan Pablo II   \n",
       "...    ...                                                ...   \n",
       "3793  3793                                 Parketxe Arantzazu   \n",
       "3794  3794                             Kantauri Ondare Museoa   \n",
       "3795  3795                                Ekoetxea Meatzaldea   \n",
       "3796  3796  Mufomi - Museo de Fósiles y Minerales de Elgoibar   \n",
       "3797  3797                                   Arkeologi Museoa   \n",
       "\n",
       "     average_sentiment cat_detailed  \\\n",
       "0        history_freak      theater   \n",
       "1          adventurous   experience   \n",
       "2                artsy       museum   \n",
       "3                relax         park   \n",
       "4                relax         park   \n",
       "...                ...          ...   \n",
       "3793           curious       museum   \n",
       "3794           curious       museum   \n",
       "3795           curious       museum   \n",
       "3796           curious       museum   \n",
       "3797           curious       museum   \n",
       "\n",
       "                                            cat_reduced    latitud  longitud  \\\n",
       "0     experiences, cultural centers, theaters and music  40.423258 -3.704502   \n",
       "1     experiences, cultural centers, theaters and music  40.404300 -3.694670   \n",
       "2     historic building, museums and archaeological ...  40.419750 -3.700222   \n",
       "3                               town, parks or lookouts  40.488108 -3.619405   \n",
       "4                               town, parks or lookouts  40.454777 -3.626851   \n",
       "...                                                 ...        ...       ...   \n",
       "3793  historic building, museums and archaeological ...  42.980086 -2.401119   \n",
       "3794  historic building, museums and archaeological ...  43.295369 -2.256645   \n",
       "3795  historic building, museums and archaeological ...  43.282968 -3.075280   \n",
       "3796  historic building, museums and archaeological ...  43.218636 -2.407862   \n",
       "3797  historic building, museums and archaeological ...  43.258705 -2.921607   \n",
       "\n",
       "                                                address     area    age  \\\n",
       "0                  C. del Pez, 10, 28004 Madrid, España   Madrid  adult   \n",
       "1        Calle de las Delicias, 9, 28045 Madrid, España   Madrid    old   \n",
       "2          C/ Gran Vía, 15, Local, 28013 Madrid, España   Madrid  adult   \n",
       "3                         F9RJ+4F, 28055 Madrid, España   Madrid  young   \n",
       "4            Av. de Machupichu, 1, 28043 Madrid, España   Madrid  young   \n",
       "...                                                 ...      ...    ...   \n",
       "3793  Arantzazu auzoa, Gandiaga II eraikina, 20567 O...  Euskadi  adult   \n",
       "3794  Kantauri Plaza, 5, 20750 Zumaia, Gipuzkoa, España  Euskadi  young   \n",
       "3795  Carretera forestal La Arboleda, Muskiz km 1,6,...  Euskadi  adult   \n",
       "3796  correos, Artetxe kalea, s/n, Apdo, Nº 20, 2087...  Euskadi  adult   \n",
       "3797  Mallona Galtzada, 2, 48006 Bilbo, Bizkaia, España  Euskadi  adult   \n",
       "\n",
       "     way_travel  rating  \n",
       "0     in couple     4.7  \n",
       "1     in couple     4.9  \n",
       "2     in family     4.4  \n",
       "3     in couple     4.4  \n",
       "4     in couple     4.5  \n",
       "...         ...     ...  \n",
       "3793  in family     4.6  \n",
       "3794   in group     5.0  \n",
       "3795  in family     4.4  \n",
       "3796  in family     4.9  \n",
       "3797  in family     4.5  \n",
       "\n",
       "[3798 rows x 12 columns]"
      ]
     },
     "execution_count": 10,
     "metadata": {},
     "output_type": "execute_result"
    }
   ],
   "source": [
    "data"
   ]
  },
  {
   "cell_type": "markdown",
   "id": "e15fddae",
   "metadata": {},
   "source": [
    "# Brief context of the data"
   ]
  },
  {
   "cell_type": "markdown",
   "id": "258819a4",
   "metadata": {},
   "source": [
    "To get to this point, there has being a huge process that came before loading this data. In the case study I said the government gave me this data, retrieved from a focus group that they made. \n",
    "\n",
    "Nonetheless, the reality is much complex. You can follow how I did this proccess in the folders: 1. Gathered data from datos.gob.es and 2. Creating the dataset.\n",
    "\n",
    "**-** First we gathered the data from datos.gob.es, an open data platform made by the government of Spain. Each city or region have multiple datasets of every point of interest category. So I downloaded a lot of datasets from various regions and analyze the quality of the data. Finally, I stayed with data from Euskadi, as a region, La Palma, as a region, and Madrid, Vigo and Barcelona as cities.\n",
    "\n",
    "**-** I created a unique dataset with common categories that I created myself. I analyzed manually every site to give it a \"average sentiment or mood\". I also deleted the sites that were duplicated.\n",
    "\n",
    "**-** At this point I had like more of 5000 sites. I ran them through Google maps API and kept only the ones that had latitude, longitude and address. Which gave me around 3500 sites.\n",
    "\n",
    "**-** I translated Spanish columns that were inherited from the Spanish dataset.\n",
    "\n",
    "**-** In the model iterations I realised that the model performed better with less categories, so I reduced them. \n",
    "\n",
    "**-**  To make the recommender personalised, I needed to created more features for the sites. Let's break this down. \n",
    "\n",
    "    - Common travel places such as Tripadvisor don't give us this type of data. Its ratings of the places are based in what all people think.\n",
    "    \n",
    "    - I want to segment places in mood of the site (created previously in step 2, and average age of the common traveller and the way they visit that place.\n",
    "    \n",
    "    - Since I couldn't find this data because it was a new approach of travel reccomendations, I needed to created myself. \n",
    "    \n",
    "    - Check: 2. Creating the dataset > 4.age and way travel column creation folder to discover how I did it. I assumed to justify this in the project that the government made a focus group to retrieved this data and they gave that to me so I could build columns for that to run the MVP. "
   ]
  },
  {
   "cell_type": "markdown",
   "id": "cc8708c7",
   "metadata": {},
   "source": [
    "#  Analyzing the data that we have"
   ]
  },
  {
   "cell_type": "code",
   "execution_count": 12,
   "id": "c42758e1",
   "metadata": {},
   "outputs": [
    {
     "data": {
      "text/plain": [
       "(3798, 12)"
      ]
     },
     "execution_count": 12,
     "metadata": {},
     "output_type": "execute_result"
    }
   ],
   "source": [
    "data.shape"
   ]
  },
  {
   "cell_type": "code",
   "execution_count": 13,
   "id": "96cc86e4",
   "metadata": {
    "scrolled": true
   },
   "outputs": [
    {
     "data": {
      "text/plain": [
       "Index(['id', 'name', 'average_sentiment', 'cat_detailed', 'cat_reduced',\n",
       "       'latitud', 'longitud', 'address', 'area', 'age', 'way_travel',\n",
       "       'rating'],\n",
       "      dtype='object')"
      ]
     },
     "execution_count": 13,
     "metadata": {},
     "output_type": "execute_result"
    }
   ],
   "source": [
    "data.columns"
   ]
  },
  {
   "cell_type": "markdown",
   "id": "550bde62",
   "metadata": {},
   "source": [
    "**Columns description**\n",
    "- id: id of the site\n",
    "- name: name of the site\n",
    "- average_sentiment: How people feel when they entered that site. \n",
    "- cat_detailed: category of the site. \n",
    "- cat_reduced: the one I reduced to use it for the model.\n",
    "- latitute and longitude retrieved from Google Maps using its API.\n",
    "- address: address of the site retrieved from Google Maps using its API.\n",
    "- area: area of the site.\n",
    "- average_age: the average age of people that go to that site.\n",
    "- age: average age of the typical traveller: young, adult, old.\n",
    "- way_travel: Average way of the typical traveller that visit that site: alone, in group, in couple, in family.\n",
    "- Rating: retrieved from Google Maps using its API.\n"
   ]
  },
  {
   "cell_type": "markdown",
   "id": "a3ae6716",
   "metadata": {},
   "source": [
    "#### How data is distributed"
   ]
  },
  {
   "cell_type": "code",
   "execution_count": 14,
   "id": "b0d16ba5",
   "metadata": {},
   "outputs": [
    {
     "data": {
      "text/plain": [
       "area\n",
       "Euskadi      1272\n",
       "Barcelona    1250\n",
       "Madrid        875\n",
       "Vigo          373\n",
       "La Palma       28\n",
       "Name: count, dtype: int64"
      ]
     },
     "execution_count": 14,
     "metadata": {},
     "output_type": "execute_result"
    }
   ],
   "source": [
    "data[\"area\"].value_counts()"
   ]
  },
  {
   "cell_type": "code",
   "execution_count": 15,
   "id": "4f18148a",
   "metadata": {},
   "outputs": [
    {
     "data": {
      "text/plain": [
       "average_sentiment\n",
       "history_freak    1297\n",
       "curious          1011\n",
       "relax             859\n",
       "artsy             442\n",
       "adventurous       189\n",
       "Name: count, dtype: int64"
      ]
     },
     "execution_count": 15,
     "metadata": {},
     "output_type": "execute_result"
    }
   ],
   "source": [
    "data[\"average_sentiment\"].value_counts()"
   ]
  },
  {
   "cell_type": "code",
   "execution_count": 16,
   "id": "21e23849",
   "metadata": {},
   "outputs": [
    {
     "data": {
      "text/plain": [
       "cat_detailed\n",
       "historic_building        766\n",
       "religious                367\n",
       "point_of_interest        296\n",
       "museum                   281\n",
       "town                     277\n",
       "park                     261\n",
       "experience               257\n",
       "route                    213\n",
       "contemporary_building    182\n",
       "square                   164\n",
       "cultural_center          157\n",
       "art_gallery              121\n",
       "theater                   68\n",
       "sculpture                 60\n",
       "urban_route               58\n",
       "food                      52\n",
       "lookout                   47\n",
       "seaside                   46\n",
       "other                     41\n",
       "music                     29\n",
       "archaeological_rest       29\n",
       "sport                     26\n",
       "Name: count, dtype: int64"
      ]
     },
     "execution_count": 16,
     "metadata": {},
     "output_type": "execute_result"
    }
   ],
   "source": [
    "data[\"cat_detailed\"].value_counts()"
   ]
  },
  {
   "cell_type": "code",
   "execution_count": 17,
   "id": "e6f0fb80",
   "metadata": {},
   "outputs": [
    {
     "data": {
      "text/plain": [
       "area       cat_detailed         \n",
       "Barcelona  historic_building        235\n",
       "           square                   164\n",
       "           point_of_interest        163\n",
       "           park                     158\n",
       "           religious                126\n",
       "           contemporary_building     86\n",
       "           urban_route               58\n",
       "           museum                    57\n",
       "           cultural_center           39\n",
       "           seaside                   33\n",
       "           food                      32\n",
       "           lookout                   30\n",
       "           sport                     24\n",
       "           sculpture                 12\n",
       "           art_gallery               10\n",
       "           theater                   10\n",
       "           town                       7\n",
       "           other                      6\n",
       "Euskadi    historic_building        318\n",
       "           town                     270\n",
       "           experience               219\n",
       "           route                    213\n",
       "           museum                   136\n",
       "           religious                 83\n",
       "           archaeological_rest       29\n",
       "           food                       3\n",
       "           other                      1\n",
       "La Palma   lookout                   15\n",
       "           museum                    10\n",
       "           park                       1\n",
       "           historic_building          1\n",
       "           religious                  1\n",
       "Madrid     historic_building        136\n",
       "           cultural_center          117\n",
       "           contemporary_building     96\n",
       "           art_gallery               94\n",
       "           park                      88\n",
       "           museum                    72\n",
       "           religious                 66\n",
       "           theater                   58\n",
       "           experience                38\n",
       "           other                     34\n",
       "           music                     28\n",
       "           sculpture                 28\n",
       "           food                       9\n",
       "           point_of_interest          7\n",
       "           sport                      2\n",
       "           lookout                    2\n",
       "Vigo       point_of_interest        126\n",
       "           religious                 91\n",
       "           historic_building         76\n",
       "           sculpture                 20\n",
       "           art_gallery               17\n",
       "           park                      14\n",
       "           seaside                   13\n",
       "           food                       8\n",
       "           museum                     6\n",
       "           cultural_center            1\n",
       "           music                      1\n",
       "Name: count, dtype: int64"
      ]
     },
     "execution_count": 17,
     "metadata": {},
     "output_type": "execute_result"
    }
   ],
   "source": [
    "site_distribution = data.groupby('area')['cat_detailed'].value_counts()\n",
    "site_distribution"
   ]
  },
  {
   "cell_type": "code",
   "execution_count": 18,
   "id": "0c7f2135",
   "metadata": {},
   "outputs": [
    {
     "data": {
      "text/plain": [
       "id                   0\n",
       "name                 0\n",
       "average_sentiment    0\n",
       "cat_detailed         0\n",
       "cat_reduced          0\n",
       "latitud              0\n",
       "longitud             0\n",
       "address              0\n",
       "area                 0\n",
       "age                  0\n",
       "way_travel           0\n",
       "rating               0\n",
       "dtype: int64"
      ]
     },
     "execution_count": 18,
     "metadata": {},
     "output_type": "execute_result"
    }
   ],
   "source": [
    "data.isna().sum()"
   ]
  },
  {
   "cell_type": "code",
   "execution_count": 19,
   "id": "a5b78d4e",
   "metadata": {},
   "outputs": [],
   "source": [
    "category_avg_ratings = data.groupby('cat_detailed')['rating'].mean()"
   ]
  },
  {
   "cell_type": "code",
   "execution_count": 20,
   "id": "3401665a",
   "metadata": {},
   "outputs": [
    {
     "data": {
      "text/plain": [
       "cat_detailed\n",
       "archaeological_rest      3.714286\n",
       "art_gallery              4.266116\n",
       "contemporary_building    3.909317\n",
       "cultural_center          4.414286\n",
       "experience               4.434894\n",
       "food                     4.292308\n",
       "historic_building        3.897147\n",
       "lookout                  4.412195\n",
       "museum                   4.316129\n",
       "music                    4.293103\n",
       "other                    3.945000\n",
       "park                     4.284746\n",
       "point_of_interest        3.957028\n",
       "religious                4.242458\n",
       "route                    4.333333\n",
       "sculpture                4.186207\n",
       "seaside                  3.775556\n",
       "sport                    4.330769\n",
       "square                   4.214286\n",
       "theater                  4.473529\n",
       "town                     4.450000\n",
       "urban_route              3.021053\n",
       "Name: rating, dtype: float64"
      ]
     },
     "execution_count": 20,
     "metadata": {},
     "output_type": "execute_result"
    }
   ],
   "source": [
    "category_avg_ratings"
   ]
  },
  {
   "cell_type": "markdown",
   "id": "fda78eb4",
   "metadata": {},
   "source": [
    "Data viz was made with Tableau and the cleaning part took place when I retrieved the data, so no more EDA needed."
   ]
  }
 ],
 "metadata": {
  "kernelspec": {
   "display_name": "Python 3 (ipykernel)",
   "language": "python",
   "name": "python3"
  },
  "language_info": {
   "codemirror_mode": {
    "name": "ipython",
    "version": 3
   },
   "file_extension": ".py",
   "mimetype": "text/x-python",
   "name": "python",
   "nbconvert_exporter": "python",
   "pygments_lexer": "ipython3",
   "version": "3.9.13"
  }
 },
 "nbformat": 4,
 "nbformat_minor": 5
}
