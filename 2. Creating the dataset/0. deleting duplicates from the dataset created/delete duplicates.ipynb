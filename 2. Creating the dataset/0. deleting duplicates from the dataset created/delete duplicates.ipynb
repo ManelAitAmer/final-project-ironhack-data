{
 "cells": [
  {
   "cell_type": "markdown",
   "id": "187dfca8",
   "metadata": {},
   "source": [
    "# Here I am deleting any duplicates that might appear while merging all the datasets."
   ]
  },
  {
   "cell_type": "code",
   "execution_count": 1,
   "id": "0fb25e81",
   "metadata": {},
   "outputs": [],
   "source": [
    "import pandas as pd"
   ]
  },
  {
   "cell_type": "code",
   "execution_count": 2,
   "id": "f71cfcc1",
   "metadata": {},
   "outputs": [],
   "source": [
    "df = pd.read_excel(\"data_sites_2.xlsx\")"
   ]
  },
  {
   "cell_type": "code",
   "execution_count": 3,
   "id": "b244904e",
   "metadata": {},
   "outputs": [
    {
     "data": {
      "text/plain": [
       "(5233, 15)"
      ]
     },
     "execution_count": 3,
     "metadata": {},
     "output_type": "execute_result"
    }
   ],
   "source": [
    "df.shape"
   ]
  },
  {
   "cell_type": "code",
   "execution_count": 4,
   "id": "86a6568f",
   "metadata": {},
   "outputs": [],
   "source": [
    "column_name = \"name\"\n",
    "df.drop_duplicates(subset=[column_name], keep=\"first\", inplace=True)"
   ]
  },
  {
   "cell_type": "code",
   "execution_count": 5,
   "id": "70381ee1",
   "metadata": {},
   "outputs": [
    {
     "data": {
      "text/plain": [
       "(4163, 15)"
      ]
     },
     "execution_count": 5,
     "metadata": {},
     "output_type": "execute_result"
    }
   ],
   "source": [
    "df.shape # More than a thousand appeared to be duplicated."
   ]
  },
  {
   "cell_type": "code",
   "execution_count": 10,
   "id": "94021317",
   "metadata": {},
   "outputs": [
    {
     "data": {
      "text/plain": [
       "cat_detailed\n",
       "Edificio histórico        418\n",
       "Experiencias Top          357\n",
       "Pueblos                   251\n",
       "Museos                    237\n",
       "Etapas                    216\n",
       "Religioso                 211\n",
       "Edificio histórico        177\n",
       "Punto de interés          147\n",
       "Plaza                     122\n",
       "Centro cultural           119\n",
       "Galerías de arte          113\n",
       "Parques                   105\n",
       "Edificio contemporáneo     96\n",
       "Church                     82\n",
       "Rutas                      81\n",
       "Park                       68\n",
       "Teatros                    58\n",
       "Escultura                  54\n",
       "Experiencia                41\n",
       "Resto arqueológico         32\n",
       "Scenic Lookout             31\n",
       "Música                     29\n",
       "Otros                      23\n",
       "Garden                     22\n",
       "Destinos                   21\n",
       "Harbor / Marina            19\n",
       "Comida                     18\n",
       "Mirador                    17\n",
       "Otros ocio                 13\n",
       "Playas                     13\n",
       "Historic Site              12\n",
       "City                        9\n",
       "Art Gallery                 8\n",
       "Museum                      8\n",
       "Cemetery                    8\n",
       "Sculpture Garden            7\n",
       "History Museum              7\n",
       "Edificio                    7\n",
       "Beach                       6\n",
       "Shrine                      5\n",
       "Deporte                     4\n",
       "Science Museum              4\n",
       "Theater                     4\n",
       "Lake                        4\n",
       "Territorios Históricos      3\n",
       "Art Museum                  3\n",
       "Mosque                      2\n",
       "Castle                      1\n",
       "Planetarium                 1\n",
       "Lighthouse                  1\n",
       "Arts & Entertainment        1\n",
       "Aquarium                    1\n",
       "Name: count, dtype: int64"
      ]
     },
     "execution_count": 10,
     "metadata": {},
     "output_type": "execute_result"
    }
   ],
   "source": [
    "df[\"cat_detailed\"].value_counts()"
   ]
  },
  {
   "cell_type": "code",
   "execution_count": 6,
   "id": "bb454341",
   "metadata": {},
   "outputs": [],
   "source": [
    "df.to_excel(\"data_sites_2_clean.xlsx\")"
   ]
  }
 ],
 "metadata": {
  "kernelspec": {
   "display_name": "Python 3 (ipykernel)",
   "language": "python",
   "name": "python3"
  },
  "language_info": {
   "codemirror_mode": {
    "name": "ipython",
    "version": 3
   },
   "file_extension": ".py",
   "mimetype": "text/x-python",
   "name": "python",
   "nbconvert_exporter": "python",
   "pygments_lexer": "ipython3",
   "version": "3.9.13"
  }
 },
 "nbformat": 4,
 "nbformat_minor": 5
}
