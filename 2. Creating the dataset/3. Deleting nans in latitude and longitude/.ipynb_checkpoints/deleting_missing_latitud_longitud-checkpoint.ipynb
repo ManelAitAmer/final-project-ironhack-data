{
 "cells": [
  {
   "cell_type": "markdown",
   "id": "030a9172",
   "metadata": {},
   "source": [
    "# Here I am deleting the rows where is missing latitude, longitude and rating."
   ]
  },
  {
   "cell_type": "code",
   "execution_count": 1,
   "id": "c6835f10",
   "metadata": {},
   "outputs": [],
   "source": [
    "import pandas as pd\n",
    "import numpy as np"
   ]
  },
  {
   "cell_type": "code",
   "execution_count": 2,
   "id": "aa154488",
   "metadata": {},
   "outputs": [],
   "source": [
    "df = pd.read_excel(\"data-final.xlsx\")"
   ]
  },
  {
   "cell_type": "code",
   "execution_count": 4,
   "id": "e007b31b",
   "metadata": {},
   "outputs": [],
   "source": [
    "# Drop rows with missing values in \"latitud\" and \"longitud\" columns\n",
    "df.dropna(subset=['Latitud', 'Longitud'], inplace=True)\n",
    "\n",
    "# Drop rows with \"N/A\" in the \"rating\" column\n",
    "df = df[df['Rating'] != 'N/A']"
   ]
  },
  {
   "cell_type": "code",
   "execution_count": 5,
   "id": "1bbd0a42",
   "metadata": {},
   "outputs": [],
   "source": [
    "df.reset_index(drop=True, inplace=True)"
   ]
  },
  {
   "cell_type": "code",
   "execution_count": 6,
   "id": "e69f9626",
   "metadata": {},
   "outputs": [
    {
     "data": {
      "text/plain": [
       "(3798, 13)"
      ]
     },
     "execution_count": 6,
     "metadata": {},
     "output_type": "execute_result"
    }
   ],
   "source": [
    "df.shape"
   ]
  },
  {
   "cell_type": "code",
   "execution_count": 7,
   "id": "5a98dd96",
   "metadata": {},
   "outputs": [
    {
     "data": {
      "text/plain": [
       "area\n",
       "Barcelona    1250\n",
       "Madrid        875\n",
       "Euskadi       567\n",
       "Vigo          373\n",
       "La Palma       28\n",
       "Name: count, dtype: int64"
      ]
     },
     "execution_count": 7,
     "metadata": {},
     "output_type": "execute_result"
    }
   ],
   "source": [
    "df[\"area\"].value_counts()"
   ]
  },
  {
   "cell_type": "code",
   "execution_count": 9,
   "id": "7a042e31",
   "metadata": {},
   "outputs": [],
   "source": [
    "df.to_excel(\"data_final.xlsx\")"
   ]
  }
 ],
 "metadata": {
  "kernelspec": {
   "display_name": "Python 3 (ipykernel)",
   "language": "python",
   "name": "python3"
  },
  "language_info": {
   "codemirror_mode": {
    "name": "ipython",
    "version": 3
   },
   "file_extension": ".py",
   "mimetype": "text/x-python",
   "name": "python",
   "nbconvert_exporter": "python",
   "pygments_lexer": "ipython3",
   "version": "3.9.13"
  }
 },
 "nbformat": 4,
 "nbformat_minor": 5
}
