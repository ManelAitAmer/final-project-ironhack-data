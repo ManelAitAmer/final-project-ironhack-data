{
 "cells": [
  {
   "cell_type": "markdown",
   "id": "a095508f",
   "metadata": {},
   "source": [
    "# Since the data is from Spain, the information gathered is in Spanish so I translate everything here to make it easier for reviewing."
   ]
  },
  {
   "cell_type": "code",
   "execution_count": 17,
   "id": "0dae7671",
   "metadata": {},
   "outputs": [],
   "source": [
    "import pandas as pd\n",
    "import numpy as np"
   ]
  },
  {
   "cell_type": "code",
   "execution_count": 3,
   "id": "2e68a08a",
   "metadata": {},
   "outputs": [],
   "source": [
    "df = pd.read_excel(\"data_sites_2_clean_2.xlsx\")"
   ]
  },
  {
   "cell_type": "code",
   "execution_count": 4,
   "id": "21e77bee",
   "metadata": {},
   "outputs": [
    {
     "data": {
      "text/plain": [
       "Index(['id', 'name', 'Average_sentiment', 'Google rating',\n",
       "       'Level of popularity', 'Increase of popularity', 'Cat_detailed',\n",
       "       'address', 'zipcode', 'lat', 'lng', 'area', 'other_city'],\n",
       "      dtype='object')"
      ]
     },
     "execution_count": 4,
     "metadata": {},
     "output_type": "execute_result"
    }
   ],
   "source": [
    "df.columns"
   ]
  },
  {
   "cell_type": "code",
   "execution_count": 5,
   "id": "88a2cbda",
   "metadata": {},
   "outputs": [
    {
     "data": {
      "text/plain": [
       "Average_sentiment\n",
       "history_freak    1369\n",
       "relax            1035\n",
       "curious          1029\n",
       "artsy             410\n",
       "Adventurous       180\n",
       "Curious            39\n",
       "Artsy              38\n",
       "adventurous        36\n",
       "Relax              23\n",
       "History_freak       3\n",
       "Name: count, dtype: int64"
      ]
     },
     "execution_count": 5,
     "metadata": {},
     "output_type": "execute_result"
    }
   ],
   "source": [
    "df[\"Average_sentiment\"].value_counts()"
   ]
  },
  {
   "cell_type": "code",
   "execution_count": 6,
   "id": "33c9b3ef",
   "metadata": {},
   "outputs": [],
   "source": [
    "sentiment_mapping = {\n",
    "    \"history_freak\": 'history_freak',\n",
    "    \"relax\": 'relax',\n",
    "    \"curious\": 'curious',\n",
    "    \"artsy\": 'artsy',\n",
    "    \"Adventurous\": 'adventurous',\n",
    "    \"Curious\": 'curious',\n",
    "    \"Artsy\": 'artsy',\n",
    "    \"adventurous\": 'adventurous',\n",
    "    \"Relax\": 'relax',    \n",
    "    \"History_freak\": 'history_freak',\n",
    "}\n",
    "\n",
    "# Use the `replace` function with the value_mapping\n",
    "df['Average_sentiment'] = df['Average_sentiment'].replace(sentiment_mapping)"
   ]
  },
  {
   "cell_type": "code",
   "execution_count": 7,
   "id": "6f697257",
   "metadata": {},
   "outputs": [
    {
     "data": {
      "text/plain": [
       "Average_sentiment\n",
       "history_freak    1372\n",
       "curious          1068\n",
       "relax            1058\n",
       "artsy             448\n",
       "adventurous       216\n",
       "Name: count, dtype: int64"
      ]
     },
     "execution_count": 7,
     "metadata": {},
     "output_type": "execute_result"
    }
   ],
   "source": [
    "df[\"Average_sentiment\"].value_counts()"
   ]
  },
  {
   "cell_type": "code",
   "execution_count": 8,
   "id": "a1680adb",
   "metadata": {
    "scrolled": true
   },
   "outputs": [
    {
     "data": {
      "text/plain": [
       "Cat_detailed\n",
       "Edificio histórico        787\n",
       "Experiencias              395\n",
       "Religioso                 384\n",
       "Punto de interés          316\n",
       "Rutas                     298\n",
       "Museos                    289\n",
       "Pueblos                   283\n",
       "Parques                   268\n",
       "Edificio contemporáneo    185\n",
       "Plaza                     166\n",
       "Centro cultural           158\n",
       "Galerías de arte          124\n",
       "Teatros                    68\n",
       "Escultura                  67\n",
       "Rutas urbanas              61\n",
       "Comida                     54\n",
       "Mirador                    49\n",
       "Playas                     48\n",
       "Resto arqueológico         32\n",
       "Música                     29\n",
       "Deporte                    26\n",
       "Otros                      25\n",
       "Otros ocio                 20\n",
       "Edificio histórico         20\n",
       "Edificio                    9\n",
       "Experiencia                 1\n",
       "Name: count, dtype: int64"
      ]
     },
     "execution_count": 8,
     "metadata": {},
     "output_type": "execute_result"
    }
   ],
   "source": [
    "df[\"Cat_detailed\"].value_counts()"
   ]
  },
  {
   "cell_type": "code",
   "execution_count": 13,
   "id": "1ad00b80",
   "metadata": {},
   "outputs": [],
   "source": [
    "category_mapping = {\n",
    "    \"Edificio histórico\": 'historic_building',\n",
    "    \"Edificio histórico \": 'historic_building',\n",
    "    \"Experiencias\": 'experience',\n",
    "    \"Experiencia\": 'experience',\n",
    "    \"Religioso\": 'religious',\n",
    "    \"Punto de interés\": 'point_of_interest',\n",
    "    \"Rutas\": 'route',\n",
    "    \"Museos\": 'museum',\n",
    "    \"Pueblos\": 'town',\n",
    "    \"Parques\": 'park',\n",
    "    \"Edificio contemporáneo\": 'contemporary_building',    \n",
    "    \"Plaza\": 'square',\n",
    "    \"Centro cultural\": 'cultural_center',\n",
    "    \"Galerías de arte\": 'art_gallery',\n",
    "    \"Teatros\": 'theater',\n",
    "    \"Escultura\": 'sculpture',    \n",
    "    \"Rutas urbanas\": 'urban_route',\n",
    "    \"Comida\": 'food',\n",
    "    \"Mirador\": 'lookout',\n",
    "    \"Playas\": 'seaside',\n",
    "    \"Resto arqueológico\": 'archaeological_rest',    \n",
    "    \"Música\": 'music',\n",
    "    \"Deporte\": 'sport',\n",
    "    \"Otros\": 'other',\n",
    "    \"Otros ocio\": 'other',\n",
    "    \"Edificio histórico\": 'historic_building',    \n",
    "    \"Edificio\": 'historic_building',\n",
    "}\n",
    "\n",
    "# Use the `replace` function with the value_mapping\n",
    "df['Cat_detailed'] = df['Cat_detailed'].replace(category_mapping)"
   ]
  },
  {
   "cell_type": "code",
   "execution_count": 14,
   "id": "da16adce",
   "metadata": {
    "scrolled": true
   },
   "outputs": [
    {
     "data": {
      "text/plain": [
       "Cat_detailed\n",
       "historic_building        816\n",
       "experience               396\n",
       "religious                384\n",
       "point_of_interest        316\n",
       "route                    298\n",
       "museum                   289\n",
       "town                     283\n",
       "park                     268\n",
       "contemporary_building    185\n",
       "square                   166\n",
       "cultural_center          158\n",
       "art_gallery              124\n",
       "theater                   68\n",
       "sculpture                 67\n",
       "urban_route               61\n",
       "food                      54\n",
       "lookout                   49\n",
       "seaside                   48\n",
       "other                     45\n",
       "archaeological_rest       32\n",
       "music                     29\n",
       "sport                     26\n",
       "Name: count, dtype: int64"
      ]
     },
     "execution_count": 14,
     "metadata": {},
     "output_type": "execute_result"
    }
   ],
   "source": [
    "df[\"Cat_detailed\"].value_counts()"
   ]
  },
  {
   "cell_type": "code",
   "execution_count": 15,
   "id": "9e671fe7",
   "metadata": {},
   "outputs": [],
   "source": [
    "df.to_excel(\"data_sites_english.xlsx\")"
   ]
  }
 ],
 "metadata": {
  "kernelspec": {
   "display_name": "Python 3 (ipykernel)",
   "language": "python",
   "name": "python3"
  },
  "language_info": {
   "codemirror_mode": {
    "name": "ipython",
    "version": 3
   },
   "file_extension": ".py",
   "mimetype": "text/x-python",
   "name": "python",
   "nbconvert_exporter": "python",
   "pygments_lexer": "ipython3",
   "version": "3.9.13"
  }
 },
 "nbformat": 4,
 "nbformat_minor": 5
}
