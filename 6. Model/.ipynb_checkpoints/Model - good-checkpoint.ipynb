{
 "cells": [
  {
   "cell_type": "markdown",
   "id": "07f66f47",
   "metadata": {},
   "source": [
    "# Final project case: building a personalised tourism recommender -  NEW USER MODEL: CONTENT BASED RECOMMENDER "
   ]
  },
  {
   "cell_type": "markdown",
   "id": "4e0c3f5e",
   "metadata": {},
   "source": [
    "# Loading the libraries"
   ]
  },
  {
   "cell_type": "code",
   "execution_count": 1,
   "id": "9780dd74",
   "metadata": {},
   "outputs": [],
   "source": [
    "import numpy as np \n",
    "import pandas as pd \n",
    "import matplotlib.pyplot as plt"
   ]
  },
  {
   "cell_type": "code",
   "execution_count": 3,
   "id": "354631ff",
   "metadata": {},
   "outputs": [],
   "source": [
    "from sklearn.model_selection import train_test_split\n",
    "from sklearn.ensemble import RandomForestClassifier\n",
    "from sklearn.metrics import accuracy_score, classification_report\n",
    "from sklearn.preprocessing import LabelEncoder"
   ]
  },
  {
   "cell_type": "markdown",
   "id": "010660ed",
   "metadata": {},
   "source": [
    "# Loading the data"
   ]
  },
  {
   "cell_type": "code",
   "execution_count": 2,
   "id": "b88cad93",
   "metadata": {},
   "outputs": [],
   "source": [
    "df = pd.read_excel(\"data_final_not_encoded.xlsx\")"
   ]
  },
  {
   "cell_type": "code",
   "execution_count": 4,
   "id": "7ce79248",
   "metadata": {},
   "outputs": [
    {
     "data": {
      "text/html": [
       "<div>\n",
       "<style scoped>\n",
       "    .dataframe tbody tr th:only-of-type {\n",
       "        vertical-align: middle;\n",
       "    }\n",
       "\n",
       "    .dataframe tbody tr th {\n",
       "        vertical-align: top;\n",
       "    }\n",
       "\n",
       "    .dataframe thead th {\n",
       "        text-align: right;\n",
       "    }\n",
       "</style>\n",
       "<table border=\"1\" class=\"dataframe\">\n",
       "  <thead>\n",
       "    <tr style=\"text-align: right;\">\n",
       "      <th></th>\n",
       "      <th>id</th>\n",
       "      <th>name</th>\n",
       "      <th>average_sentiment</th>\n",
       "      <th>cat_detailed</th>\n",
       "      <th>cat_reduced</th>\n",
       "      <th>latitud</th>\n",
       "      <th>longitud</th>\n",
       "      <th>address</th>\n",
       "      <th>area</th>\n",
       "      <th>age</th>\n",
       "      <th>way_travel</th>\n",
       "      <th>rating</th>\n",
       "    </tr>\n",
       "  </thead>\n",
       "  <tbody>\n",
       "    <tr>\n",
       "      <th>0</th>\n",
       "      <td>0</td>\n",
       "      <td>Teatro Flamenco Madrid</td>\n",
       "      <td>history_freak</td>\n",
       "      <td>theater</td>\n",
       "      <td>experiences, cultural centers, theaters and music</td>\n",
       "      <td>40.423258</td>\n",
       "      <td>-3.704502</td>\n",
       "      <td>C. del Pez, 10, 28004 Madrid, España</td>\n",
       "      <td>Madrid</td>\n",
       "      <td>adult</td>\n",
       "      <td>in couple</td>\n",
       "      <td>4.7</td>\n",
       "    </tr>\n",
       "    <tr>\n",
       "      <th>1</th>\n",
       "      <td>1</td>\n",
       "      <td>Urban Safari</td>\n",
       "      <td>adventurous</td>\n",
       "      <td>experience</td>\n",
       "      <td>experiences, cultural centers, theaters and music</td>\n",
       "      <td>40.404300</td>\n",
       "      <td>-3.694670</td>\n",
       "      <td>Calle de las Delicias, 9, 28045 Madrid, España</td>\n",
       "      <td>Madrid</td>\n",
       "      <td>old</td>\n",
       "      <td>in couple</td>\n",
       "      <td>4.9</td>\n",
       "    </tr>\n",
       "    <tr>\n",
       "      <th>2</th>\n",
       "      <td>2</td>\n",
       "      <td>Museo Gran Via 15</td>\n",
       "      <td>artsy</td>\n",
       "      <td>museum</td>\n",
       "      <td>historic building, museums and archaeological ...</td>\n",
       "      <td>40.419750</td>\n",
       "      <td>-3.700222</td>\n",
       "      <td>C/ Gran Vía, 15, Local, 28013 Madrid, España</td>\n",
       "      <td>Madrid</td>\n",
       "      <td>adult</td>\n",
       "      <td>in family</td>\n",
       "      <td>4.4</td>\n",
       "    </tr>\n",
       "    <tr>\n",
       "      <th>3</th>\n",
       "      <td>3</td>\n",
       "      <td>Parque Princesa Leonor</td>\n",
       "      <td>relax</td>\n",
       "      <td>park</td>\n",
       "      <td>town, parks or lookouts</td>\n",
       "      <td>40.488108</td>\n",
       "      <td>-3.619405</td>\n",
       "      <td>F9RJ+4F, 28055 Madrid, España</td>\n",
       "      <td>Madrid</td>\n",
       "      <td>young</td>\n",
       "      <td>in couple</td>\n",
       "      <td>4.4</td>\n",
       "    </tr>\n",
       "    <tr>\n",
       "      <th>4</th>\n",
       "      <td>4</td>\n",
       "      <td>Parque Juan Pablo II</td>\n",
       "      <td>relax</td>\n",
       "      <td>park</td>\n",
       "      <td>town, parks or lookouts</td>\n",
       "      <td>40.454777</td>\n",
       "      <td>-3.626851</td>\n",
       "      <td>Av. de Machupichu, 1, 28043 Madrid, España</td>\n",
       "      <td>Madrid</td>\n",
       "      <td>young</td>\n",
       "      <td>in couple</td>\n",
       "      <td>4.5</td>\n",
       "    </tr>\n",
       "  </tbody>\n",
       "</table>\n",
       "</div>"
      ],
      "text/plain": [
       "   id                    name average_sentiment cat_detailed  \\\n",
       "0   0  Teatro Flamenco Madrid     history_freak      theater   \n",
       "1   1            Urban Safari       adventurous   experience   \n",
       "2   2       Museo Gran Via 15             artsy       museum   \n",
       "3   3  Parque Princesa Leonor             relax         park   \n",
       "4   4    Parque Juan Pablo II             relax         park   \n",
       "\n",
       "                                         cat_reduced    latitud  longitud  \\\n",
       "0  experiences, cultural centers, theaters and music  40.423258 -3.704502   \n",
       "1  experiences, cultural centers, theaters and music  40.404300 -3.694670   \n",
       "2  historic building, museums and archaeological ...  40.419750 -3.700222   \n",
       "3                            town, parks or lookouts  40.488108 -3.619405   \n",
       "4                            town, parks or lookouts  40.454777 -3.626851   \n",
       "\n",
       "                                          address    area    age way_travel  \\\n",
       "0            C. del Pez, 10, 28004 Madrid, España  Madrid  adult  in couple   \n",
       "1  Calle de las Delicias, 9, 28045 Madrid, España  Madrid    old  in couple   \n",
       "2    C/ Gran Vía, 15, Local, 28013 Madrid, España  Madrid  adult  in family   \n",
       "3                   F9RJ+4F, 28055 Madrid, España  Madrid  young  in couple   \n",
       "4      Av. de Machupichu, 1, 28043 Madrid, España  Madrid  young  in couple   \n",
       "\n",
       "   rating  \n",
       "0     4.7  \n",
       "1     4.9  \n",
       "2     4.4  \n",
       "3     4.4  \n",
       "4     4.5  "
      ]
     },
     "execution_count": 4,
     "metadata": {},
     "output_type": "execute_result"
    }
   ],
   "source": [
    "df.head()"
   ]
  },
  {
   "cell_type": "markdown",
   "id": "81a99982",
   "metadata": {},
   "source": [
    "# Encoding values"
   ]
  },
  {
   "cell_type": "code",
   "execution_count": 5,
   "id": "713b61ed",
   "metadata": {
    "scrolled": true
   },
   "outputs": [
    {
     "data": {
      "text/plain": [
       "average_sentiment\n",
       "history_freak    1297\n",
       "curious          1011\n",
       "relax             859\n",
       "artsy             442\n",
       "adventurous       189\n",
       "Name: count, dtype: int64"
      ]
     },
     "execution_count": 5,
     "metadata": {},
     "output_type": "execute_result"
    }
   ],
   "source": [
    "df[\"average_sentiment\"].value_counts()"
   ]
  },
  {
   "cell_type": "code",
   "execution_count": 7,
   "id": "2e504f8f",
   "metadata": {
    "scrolled": true
   },
   "outputs": [
    {
     "data": {
      "text/plain": [
       "age\n",
       "adult    1685\n",
       "young    1510\n",
       "old       603\n",
       "Name: count, dtype: int64"
      ]
     },
     "execution_count": 7,
     "metadata": {},
     "output_type": "execute_result"
    }
   ],
   "source": [
    "df[\"age\"].value_counts()"
   ]
  },
  {
   "cell_type": "code",
   "execution_count": 8,
   "id": "1ad554c3",
   "metadata": {
    "scrolled": true
   },
   "outputs": [
    {
     "data": {
      "text/plain": [
       "way_travel\n",
       "in couple    1709\n",
       "in family    1496\n",
       "in group      492\n",
       "alone         101\n",
       "Name: count, dtype: int64"
      ]
     },
     "execution_count": 8,
     "metadata": {},
     "output_type": "execute_result"
    }
   ],
   "source": [
    "df[\"way_travel\"].value_counts()"
   ]
  },
  {
   "cell_type": "code",
   "execution_count": 9,
   "id": "8df1dd10",
   "metadata": {
    "scrolled": true
   },
   "outputs": [
    {
     "data": {
      "text/plain": [
       "cat_reduced\n",
       "historic building, museums and archaeological rests    1076\n",
       "town, parks or lookouts                                 585\n",
       "points of interest, like squares and sculptures         520\n",
       "experiences, cultural centers, theaters and music       511\n",
       "religious                                               367\n",
       "contemporary buildings and art galleries                303\n",
       "route and urban routes                                  271\n",
       "food, music, seaside, sport and others                  165\n",
       "Name: count, dtype: int64"
      ]
     },
     "execution_count": 9,
     "metadata": {},
     "output_type": "execute_result"
    }
   ],
   "source": [
    "df[\"cat_reduced\"].value_counts()"
   ]
  },
  {
   "cell_type": "code",
   "execution_count": 10,
   "id": "252f8e73",
   "metadata": {
    "scrolled": true
   },
   "outputs": [
    {
     "data": {
      "text/plain": [
       "area\n",
       "Euskadi      1272\n",
       "Barcelona    1250\n",
       "Madrid        875\n",
       "Vigo          373\n",
       "La Palma       28\n",
       "Name: count, dtype: int64"
      ]
     },
     "execution_count": 10,
     "metadata": {},
     "output_type": "execute_result"
    }
   ],
   "source": [
    "df[\"area\"].value_counts()"
   ]
  },
  {
   "cell_type": "code",
   "execution_count": 13,
   "id": "f23ec79d",
   "metadata": {},
   "outputs": [],
   "source": [
    "# Encoding categoricals. We are going to use manual encoding because we need it for the model after.\n",
    "\n",
    "sentiment = {\n",
    "    'artsy': 0,\n",
    "    'adventurous': 1,\n",
    "    'relax': 2,\n",
    "    'curious': 3,\n",
    "    'history_freak': 4,\n",
    "}\n",
    "\n",
    "\n",
    "user_age = {\n",
    "    'young': 0,\n",
    "    'adult': 1,\n",
    "    'old': 2\n",
    "}\n",
    "\n",
    "user_way = {\n",
    "    'alone': 0,\n",
    "    'in couple': 1,\n",
    "    'in group': 2,\n",
    "    'in family':3\n",
    "}\n",
    "\n",
    "\n",
    "destination_encoded = {\n",
    "    \"Madrid\": 1,\n",
    "    \"Vigo\": 2,\n",
    "    \"La Palma\": 3,\n",
    "    \"Euskadi\": 4,\n",
    "    \"Barcelona\": 5,\n",
    "}\n",
    "\n",
    "cat_sites_reduced_encoded = {\n",
    "    'historic building, museums and archaeological rests': 1,\n",
    "    'town, parks or lookouts': 2,\n",
    "    'points of interest, like squares and sculptures': 3,\n",
    "    'experiences, cultural centers, theaters and music': 4,\n",
    "    'religious': 5,\n",
    "    'contemporary buildings and art galleries': 6,\n",
    "    'route and urban routes': 7,\n",
    "    'food, music, seaside, sport and others': 8\n",
    "}\n",
    "\n",
    "\n",
    "# No let's do the mapping\n",
    "df['age_encoded'] = df['age'].map(user_age)\n",
    "df['way_travel_encoded'] = df['way_travel'].map(user_way)\n",
    "df['sentiment_encoded'] = df['average_sentiment'].map(sentiment)\n",
    "df['destination_encoded'] = df['area'].map(destination_encoded)\n",
    "df['cat_sites_reduced_encoded'] = df['cat_reduced'].map(cat_sites_reduced_encoded)"
   ]
  },
  {
   "cell_type": "code",
   "execution_count": 14,
   "id": "2b9e4c9c",
   "metadata": {
    "scrolled": false
   },
   "outputs": [
    {
     "data": {
      "text/plain": [
       "id                           0\n",
       "name                         0\n",
       "average_sentiment            0\n",
       "cat_detailed                 0\n",
       "cat_reduced                  0\n",
       "latitud                      0\n",
       "longitud                     0\n",
       "address                      0\n",
       "area                         0\n",
       "age                          0\n",
       "way_travel                   0\n",
       "rating                       0\n",
       "age_encoded                  0\n",
       "way_travel_encoded           0\n",
       "sentiment_encoded            0\n",
       "destination_encoded          0\n",
       "cat_sites_encoded            0\n",
       "cat_sites_reduced_encoded    0\n",
       "dtype: int64"
      ]
     },
     "execution_count": 14,
     "metadata": {},
     "output_type": "execute_result"
    }
   ],
   "source": [
    "df.isna().sum()"
   ]
  },
  {
   "cell_type": "code",
   "execution_count": null,
   "id": "22ea46e8",
   "metadata": {},
   "outputs": [],
   "source": [
    "# df.to_excel(\"data_final_encoded.xlsx\")"
   ]
  },
  {
   "cell_type": "markdown",
   "id": "d591d654",
   "metadata": {},
   "source": [
    "# Models: Option 1 - using age, way travel, sentiment, destination and rating"
   ]
  },
  {
   "cell_type": "markdown",
   "id": "96bf235f",
   "metadata": {},
   "source": [
    "The model will work in such a way that will tell in the destination of the travel of the user, which category of sites is better for him to visit and then recommend three sites of this category"
   ]
  },
  {
   "cell_type": "markdown",
   "id": "ee69c99a",
   "metadata": {},
   "source": [
    "**_Random Forest_** ---> the one we will choose, because I understand it better than gradient boosting."
   ]
  },
  {
   "cell_type": "code",
   "execution_count": 49,
   "id": "c936a105",
   "metadata": {},
   "outputs": [],
   "source": [
    "X_content = df[[\"age_encoded\", \"way_travel_encoded\", \"sentiment_encoded\", \"destination_encoded\", \"rating\"]]\n",
    "y_content = df[\"cat_sites_reduced_encoded\"]\n",
    "\n",
    "X_train_content, X_test_content, y_train_content, y_test_content = train_test_split(X_content, y_content, test_size=0.2, random_state=42)\n"
   ]
  },
  {
   "cell_type": "code",
   "execution_count": 51,
   "id": "116d4301",
   "metadata": {
    "scrolled": true
   },
   "outputs": [
    {
     "name": "stdout",
     "output_type": "stream",
     "text": [
      "Random Forest - Accuracy: 0.778\n"
     ]
    }
   ],
   "source": [
    "rf_content = RandomForestClassifier(n_estimators=100, random_state=42)\n",
    "\n",
    "rf_content.fit(X_train_content, y_train_content)\n",
    "\n",
    "y_pred_rf = rf_content.predict(X_test_content)\n",
    "accuracy_rf = accuracy_score(y_test_content, y_pred_rf)\n",
    "print(f'Random Forest - Accuracy: {accuracy_rf:.3f}')"
   ]
  },
  {
   "cell_type": "code",
   "execution_count": 36,
   "id": "66d8990b",
   "metadata": {},
   "outputs": [
    {
     "name": "stdout",
     "output_type": "stream",
     "text": [
      "Random Forest Classification Report:\n",
      "              precision    recall  f1-score   support\n",
      "\n",
      "           1       0.86      0.87      0.87       198\n",
      "           2       0.82      0.85      0.83       125\n",
      "           3       0.66      0.64      0.65        97\n",
      "           4       0.75      0.82      0.78       111\n",
      "           5       0.71      0.75      0.73        69\n",
      "           6       0.64      0.59      0.61        63\n",
      "           7       0.95      0.85      0.90        62\n",
      "           8       0.61      0.49      0.54        35\n",
      "\n",
      "    accuracy                           0.78       760\n",
      "   macro avg       0.75      0.73      0.74       760\n",
      "weighted avg       0.78      0.78      0.78       760\n",
      "\n"
     ]
    }
   ],
   "source": [
    "from sklearn.metrics import classification_report\n",
    "\n",
    "# Generating the classification report\n",
    "classification_rep = classification_report(y_test_content, y_pred_rf)\n",
    "\n",
    "print(\"Random Forest Classification Report:\")\n",
    "print(classification_rep)"
   ]
  },
  {
   "cell_type": "markdown",
   "id": "13eb4b75",
   "metadata": {},
   "source": [
    "**_Logistic regression_**"
   ]
  },
  {
   "cell_type": "code",
   "execution_count": 31,
   "id": "5c6a602b",
   "metadata": {},
   "outputs": [
    {
     "name": "stdout",
     "output_type": "stream",
     "text": [
      "Logistic Regression Accuracy: 0.5815789473684211\n"
     ]
    },
    {
     "name": "stderr",
     "output_type": "stream",
     "text": [
      "C:\\Users\\narag\\anaconda3\\lib\\site-packages\\sklearn\\linear_model\\_logistic.py:460: ConvergenceWarning: lbfgs failed to converge (status=1):\n",
      "STOP: TOTAL NO. of ITERATIONS REACHED LIMIT.\n",
      "\n",
      "Increase the number of iterations (max_iter) or scale the data as shown in:\n",
      "    https://scikit-learn.org/stable/modules/preprocessing.html\n",
      "Please also refer to the documentation for alternative solver options:\n",
      "    https://scikit-learn.org/stable/modules/linear_model.html#logistic-regression\n",
      "  n_iter_i = _check_optimize_result(\n"
     ]
    }
   ],
   "source": [
    "from sklearn.linear_model import LogisticRegression\n",
    "\n",
    "\n",
    "logreg_model = LogisticRegression(random_state=42)\n",
    "logreg_model.fit(X_train_content, y_train_content)\n",
    "\n",
    "y_pred_logreg = logreg_model.predict(X_test_content)\n",
    "\n",
    "accuracy_logreg = accuracy_score(y_test_content, y_pred_logreg)\n",
    "print(\"Logistic Regression Accuracy:\", accuracy_logreg)"
   ]
  },
  {
   "cell_type": "markdown",
   "id": "d8ac4977",
   "metadata": {},
   "source": [
    "**_Decission Tree_**"
   ]
  },
  {
   "cell_type": "code",
   "execution_count": 32,
   "id": "1ca6058a",
   "metadata": {},
   "outputs": [
    {
     "name": "stdout",
     "output_type": "stream",
     "text": [
      "Decision Tree Accuracy: 0.7671052631578947\n"
     ]
    }
   ],
   "source": [
    "from sklearn.tree import DecisionTreeClassifier\n",
    "\n",
    "dt_model = DecisionTreeClassifier(random_state=42)\n",
    "dt_model.fit(X_train_content, y_train_content)\n",
    "\n",
    "y_pred_dt = dt_model.predict(X_test_content)\n",
    "\n",
    "accuracy_dt = accuracy_score(y_test_content, y_pred_dt)\n",
    "print(\"Decision Tree Accuracy:\", accuracy_dt)"
   ]
  },
  {
   "cell_type": "markdown",
   "id": "a1d6ce97",
   "metadata": {},
   "source": [
    "**_Naïve Bayes_**"
   ]
  },
  {
   "cell_type": "code",
   "execution_count": 33,
   "id": "bce087ea",
   "metadata": {},
   "outputs": [
    {
     "name": "stdout",
     "output_type": "stream",
     "text": [
      "Naive Bayes Accuracy: 0.6157894736842106\n"
     ]
    }
   ],
   "source": [
    "from sklearn.naive_bayes import GaussianNB\n",
    "\n",
    "nb_model = GaussianNB()\n",
    "nb_model.fit(X_train_content, y_train_content)\n",
    "\n",
    "y_pred_nb = nb_model.predict(X_test_content)\n",
    "\n",
    "accuracy_nb = accuracy_score(y_test_content, y_pred_nb)\n",
    "print(\"Naive Bayes Accuracy:\", accuracy_nb)"
   ]
  },
  {
   "cell_type": "markdown",
   "id": "83b82633",
   "metadata": {},
   "source": [
    "**_Gradient boosting_**"
   ]
  },
  {
   "cell_type": "code",
   "execution_count": 19,
   "id": "859d35c4",
   "metadata": {},
   "outputs": [
    {
     "name": "stdout",
     "output_type": "stream",
     "text": [
      "Gradient Boosting - Accuracy: 0.81\n"
     ]
    }
   ],
   "source": [
    "from sklearn.ensemble import GradientBoostingClassifier\n",
    "from sklearn.metrics import accuracy_score\n",
    "\n",
    "gradient_boosting_classifier = GradientBoostingClassifier()\n",
    "\n",
    "gradient_boosting_classifier.fit(X_train_content, y_train_content)\n",
    "\n",
    "y_pred_gb = gradient_boosting_classifier.predict(X_test_content)\n",
    "\n",
    "accuracy_gb = accuracy_score(y_test_content, y_pred_gb)\n",
    "\n",
    "print(f'Gradient Boosting - Accuracy: {accuracy_gb:.2f}')"
   ]
  },
  {
   "cell_type": "markdown",
   "id": "b4b28600",
   "metadata": {},
   "source": [
    "**_KNN_**"
   ]
  },
  {
   "cell_type": "code",
   "execution_count": 20,
   "id": "1e99de44",
   "metadata": {},
   "outputs": [
    {
     "name": "stdout",
     "output_type": "stream",
     "text": [
      "K-Nearest Neighbors - Accuracy: 0.76\n"
     ]
    }
   ],
   "source": [
    "from sklearn.neighbors import KNeighborsClassifier\n",
    "from sklearn.metrics import accuracy_score\n",
    "\n",
    "knn_classifier = KNeighborsClassifier()\n",
    "\n",
    "knn_classifier.fit(X_train_content, y_train_content)\n",
    "\n",
    "y_pred_knn = knn_classifier.predict(X_test_content)\n",
    "\n",
    "accuracy_knn = accuracy_score(y_test_content, y_pred_knn)\n",
    "\n",
    "print(f'K-Nearest Neighbors - Accuracy: {accuracy_knn:.2f}')"
   ]
  },
  {
   "cell_type": "markdown",
   "id": "eebf4add",
   "metadata": {},
   "source": [
    "**_Gaussian mixture_**"
   ]
  },
  {
   "cell_type": "code",
   "execution_count": 34,
   "id": "1f96e6b7",
   "metadata": {},
   "outputs": [
    {
     "name": "stdout",
     "output_type": "stream",
     "text": [
      "AIC Score: 9815.697261517987\n",
      "BIC Score: 10315.270500219913\n"
     ]
    },
    {
     "name": "stderr",
     "output_type": "stream",
     "text": [
      "C:\\Users\\narag\\anaconda3\\lib\\site-packages\\sklearn\\cluster\\_kmeans.py:1436: UserWarning: KMeans is known to have a memory leak on Windows with MKL, when there are less chunks than available threads. You can avoid it by setting the environment variable OMP_NUM_THREADS=12.\n",
      "  warnings.warn(\n"
     ]
    }
   ],
   "source": [
    "from sklearn.mixture import GaussianMixture\n",
    "\n",
    "n_components = 4  # Set the number of components (clusters) in the GMM\n",
    "gmm_model = GaussianMixture(n_components=n_components, random_state=42)\n",
    "gmm_model.fit(X_train_content)\n",
    "\n",
    "y_pred_gmm = gmm_model.predict(X_test_content)\n",
    "\n",
    "# GMM is an unsupervised algorithm, so there's no accuracy score to calculate.\n",
    "# Instead, GMM is used for clustering and density estimation tasks.\n",
    "# You can use metrics like AIC, BIC, or silhouette score to evaluate the quality of the clustering.\n",
    "\n",
    "# Example of AIC (Akaike Information Criterion) to evaluate the GMM\n",
    "aic_score = gmm_model.aic(X_train_content)\n",
    "print(\"AIC Score:\", aic_score)\n",
    "\n",
    "# Example of BIC (Bayesian Information Criterion) to evaluate the GMM\n",
    "bic_score = gmm_model.bic(X_train_content)\n",
    "print(\"BIC Score:\", bic_score)"
   ]
  },
  {
   "cell_type": "markdown",
   "id": "b12d9ccf",
   "metadata": {},
   "source": [
    "***"
   ]
  },
  {
   "cell_type": "markdown",
   "id": "f27acd34",
   "metadata": {},
   "source": [
    "# Models: Option 2 - sentiment, destination and rating"
   ]
  },
  {
   "cell_type": "markdown",
   "id": "f14e8dcf",
   "metadata": {},
   "source": [
    "**_Random Forest_**"
   ]
  },
  {
   "cell_type": "code",
   "execution_count": 21,
   "id": "89cb5bcb",
   "metadata": {},
   "outputs": [],
   "source": [
    "X_content = df[[\"sentiment_encoded\", \"destination_encoded\", \"rating\"]]\n",
    "y_content = df[\"cat_sites_reduced_encoded\"]\n",
    "\n",
    "X_train_content, X_test_content, y_train_content, y_test_content = train_test_split(X_content, y_content, test_size=0.2, random_state=42)\n"
   ]
  },
  {
   "cell_type": "code",
   "execution_count": 22,
   "id": "15d5ba3e",
   "metadata": {},
   "outputs": [
    {
     "name": "stdout",
     "output_type": "stream",
     "text": [
      "Random Forest - Accuracy: 0.61\n"
     ]
    }
   ],
   "source": [
    "rf_content = RandomForestClassifier(n_estimators=100, random_state=42)\n",
    "\n",
    "rf_content.fit(X_train_content, y_train_content)\n",
    "\n",
    "y_pred_rf = rf_content.predict(X_test_content)\n",
    "accuracy_rf = accuracy_score(y_test_content, y_pred_rf)\n",
    "print(f'Random Forest - Accuracy: {accuracy_rf:.2f}')"
   ]
  },
  {
   "cell_type": "markdown",
   "id": "96051527",
   "metadata": {},
   "source": [
    "With this second try we see that the columns age and way travel, that were synthetically created really influence the model. "
   ]
  },
  {
   "cell_type": "markdown",
   "id": "5d267f5c",
   "metadata": {},
   "source": [
    "When creating this columns I encountered an \"ethical\" problem. The ones that were used here are imbalanced, but not so much so they look \"real\".\n",
    "\n",
    "I used a dataset where they were really imbalanced and it gave me a result of 0.95 of accuracy. But if I chose this dataset I believe I will be doing it for the model, not for the product. In reality the real dataset will be varied and not so imbalanced, more closer to what we have in the Option 1. Eventhough the accuracy is not perfect in this option, I think is pretty decent taking into account that the dataset was entirely created by myself.  "
   ]
  },
  {
   "cell_type": "markdown",
   "id": "04984097",
   "metadata": {},
   "source": [
    "***"
   ]
  },
  {
   "cell_type": "markdown",
   "id": "f21937fb",
   "metadata": {},
   "source": [
    "# Models: Option 3 - using age, way travel, sentiment, destination and rating and deleting La Palma from destinations"
   ]
  },
  {
   "cell_type": "code",
   "execution_count": 37,
   "id": "2de34fba",
   "metadata": {},
   "outputs": [],
   "source": [
    "df_reduced = df.copy()"
   ]
  },
  {
   "cell_type": "code",
   "execution_count": 38,
   "id": "28f56b79",
   "metadata": {},
   "outputs": [
    {
     "data": {
      "text/plain": [
       "destination_encoded\n",
       "4    1272\n",
       "5    1250\n",
       "1     875\n",
       "2     373\n",
       "3      28\n",
       "Name: count, dtype: int64"
      ]
     },
     "execution_count": 38,
     "metadata": {},
     "output_type": "execute_result"
    }
   ],
   "source": [
    "# I realized the destinations were very imbalanced:\n",
    "df_reduced[\"destination_encoded\"].value_counts()"
   ]
  },
  {
   "cell_type": "code",
   "execution_count": 41,
   "id": "2b24276e",
   "metadata": {},
   "outputs": [],
   "source": [
    "df_reduced = df_reduced[df_reduced[\"destination_encoded\"] != 3]"
   ]
  },
  {
   "cell_type": "code",
   "execution_count": 42,
   "id": "49943358",
   "metadata": {
    "scrolled": true
   },
   "outputs": [
    {
     "data": {
      "text/plain": [
       "destination_encoded\n",
       "4    1272\n",
       "5    1250\n",
       "1     875\n",
       "2     373\n",
       "Name: count, dtype: int64"
      ]
     },
     "execution_count": 42,
     "metadata": {},
     "output_type": "execute_result"
    }
   ],
   "source": [
    "df_reduced[\"destination_encoded\"].value_counts()"
   ]
  },
  {
   "cell_type": "markdown",
   "id": "3fe97b56",
   "metadata": {},
   "source": [
    "**_Random Forest_**"
   ]
  },
  {
   "cell_type": "code",
   "execution_count": 45,
   "id": "fe69c5a4",
   "metadata": {},
   "outputs": [],
   "source": [
    "X_content = df_reduced[[\"age_encoded\", \"way_travel_encoded\", \"sentiment_encoded\", \"destination_encoded\", \"rating\"]]\n",
    "y_content = df_reduced[\"cat_sites_reduced_encoded\"]\n",
    "\n",
    "X_train_content, X_test_content, y_train_content, y_test_content = train_test_split(X_content, y_content, test_size=0.2, random_state=42)\n"
   ]
  },
  {
   "cell_type": "code",
   "execution_count": 52,
   "id": "4c2af696",
   "metadata": {
    "scrolled": true
   },
   "outputs": [
    {
     "name": "stdout",
     "output_type": "stream",
     "text": [
      "Random Forest - Accuracy: 0.778\n"
     ]
    }
   ],
   "source": [
    "rf_content = RandomForestClassifier(n_estimators=100, random_state=42)\n",
    "\n",
    "rf_content.fit(X_train_content, y_train_content)\n",
    "\n",
    "y_pred_rf = rf_content.predict(X_test_content)\n",
    "accuracy_rf = accuracy_score(y_test_content, y_pred_rf)\n",
    "print(f'Random Forest - Accuracy: {accuracy_rf:.3f}') \n",
    "\n",
    "# Slightly better but not a lot of change, so let's keep La Palma. "
   ]
  },
  {
   "cell_type": "code",
   "execution_count": null,
   "id": "4cf779f0",
   "metadata": {},
   "outputs": [],
   "source": [
    "# deleting La Palma didn't make much difference so I stayed with option 1."
   ]
  }
 ],
 "metadata": {
  "kernelspec": {
   "display_name": "Python 3 (ipykernel)",
   "language": "python",
   "name": "python3"
  },
  "language_info": {
   "codemirror_mode": {
    "name": "ipython",
    "version": 3
   },
   "file_extension": ".py",
   "mimetype": "text/x-python",
   "name": "python",
   "nbconvert_exporter": "python",
   "pygments_lexer": "ipython3",
   "version": "3.9.13"
  }
 },
 "nbformat": 4,
 "nbformat_minor": 5
}
